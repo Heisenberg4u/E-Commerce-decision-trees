{
 "cells": [
  {
   "cell_type": "code",
   "execution_count": 1,
   "metadata": {},
   "outputs": [],
   "source": [
    "#Importing important packages\n",
    "import numpy as np   # linear algebra\n",
    "import pandas as pd   # Data processing, Input & Output load\n",
    "import seaborn as sns  #For statistical graphs and visualization\n",
    "import matplotlib.pyplot as plt # Visualization & plotting\n",
    "%matplotlib inline\n",
    "import warnings   # To avoid warning messages in the code run\n",
    "warnings.filterwarnings(\"ignore\")\n",
    "import os # os - operating system (Windows, Mac, Linux) os.mkdir('abc') "
   ]
  },
  {
   "cell_type": "code",
   "execution_count": 2,
   "metadata": {},
   "outputs": [
    {
     "data": {
      "text/plain": [
       "(464439, 17)"
      ]
     },
     "execution_count": 2,
     "metadata": {},
     "output_type": "execute_result"
    }
   ],
   "source": [
    "# Read-in the dataset\n",
    "dataset = pd.read_csv('sample_user_data.csv')\n",
    "dataset.shape"
   ]
  },
  {
   "cell_type": "code",
   "execution_count": 3,
   "metadata": {},
   "outputs": [
    {
     "data": {
      "text/html": [
       "<div>\n",
       "<style scoped>\n",
       "    .dataframe tbody tr th:only-of-type {\n",
       "        vertical-align: middle;\n",
       "    }\n",
       "\n",
       "    .dataframe tbody tr th {\n",
       "        vertical-align: top;\n",
       "    }\n",
       "\n",
       "    .dataframe thead th {\n",
       "        text-align: right;\n",
       "    }\n",
       "</style>\n",
       "<table border=\"1\" class=\"dataframe\">\n",
       "  <thead>\n",
       "    <tr style=\"text-align: right;\">\n",
       "      <th></th>\n",
       "      <th>fullVisitorId</th>\n",
       "      <th>VisitNumber</th>\n",
       "      <th>Date</th>\n",
       "      <th>VisitStartTime</th>\n",
       "      <th>bounces</th>\n",
       "      <th>pageviews</th>\n",
       "      <th>timeOnSite</th>\n",
       "      <th>totalTransactionRevenue</th>\n",
       "      <th>transactions</th>\n",
       "      <th>source</th>\n",
       "      <th>medium</th>\n",
       "      <th>campaign</th>\n",
       "      <th>deviceCategory</th>\n",
       "      <th>operatingSystem</th>\n",
       "      <th>mobileDeviceModel</th>\n",
       "      <th>city</th>\n",
       "      <th>ChannelGrouping</th>\n",
       "    </tr>\n",
       "  </thead>\n",
       "  <tbody>\n",
       "    <tr>\n",
       "      <th>0</th>\n",
       "      <td>785078151568671210</td>\n",
       "      <td>1</td>\n",
       "      <td>20170427</td>\n",
       "      <td>1493331229</td>\n",
       "      <td>1.0</td>\n",
       "      <td>1.0</td>\n",
       "      <td>NaN</td>\n",
       "      <td>NaN</td>\n",
       "      <td>NaN</td>\n",
       "      <td>google</td>\n",
       "      <td>organic</td>\n",
       "      <td>(not set)</td>\n",
       "      <td>desktop</td>\n",
       "      <td>Macintosh</td>\n",
       "      <td>not available in demo dataset</td>\n",
       "      <td>Mountain View</td>\n",
       "      <td>Organic Search</td>\n",
       "    </tr>\n",
       "    <tr>\n",
       "      <th>1</th>\n",
       "      <td>142102319075727733</td>\n",
       "      <td>1</td>\n",
       "      <td>20170427</td>\n",
       "      <td>1493316667</td>\n",
       "      <td>1.0</td>\n",
       "      <td>1.0</td>\n",
       "      <td>NaN</td>\n",
       "      <td>NaN</td>\n",
       "      <td>NaN</td>\n",
       "      <td>google</td>\n",
       "      <td>organic</td>\n",
       "      <td>(not set)</td>\n",
       "      <td>desktop</td>\n",
       "      <td>Macintosh</td>\n",
       "      <td>not available in demo dataset</td>\n",
       "      <td>not available in demo dataset</td>\n",
       "      <td>Organic Search</td>\n",
       "    </tr>\n",
       "    <tr>\n",
       "      <th>2</th>\n",
       "      <td>1015855318272495035</td>\n",
       "      <td>1</td>\n",
       "      <td>20170427</td>\n",
       "      <td>1493295075</td>\n",
       "      <td>1.0</td>\n",
       "      <td>1.0</td>\n",
       "      <td>NaN</td>\n",
       "      <td>NaN</td>\n",
       "      <td>NaN</td>\n",
       "      <td>google</td>\n",
       "      <td>organic</td>\n",
       "      <td>(not set)</td>\n",
       "      <td>desktop</td>\n",
       "      <td>Windows</td>\n",
       "      <td>not available in demo dataset</td>\n",
       "      <td>not available in demo dataset</td>\n",
       "      <td>Organic Search</td>\n",
       "    </tr>\n",
       "    <tr>\n",
       "      <th>3</th>\n",
       "      <td>7452646484470618802</td>\n",
       "      <td>1</td>\n",
       "      <td>20170427</td>\n",
       "      <td>1493299324</td>\n",
       "      <td>1.0</td>\n",
       "      <td>1.0</td>\n",
       "      <td>NaN</td>\n",
       "      <td>NaN</td>\n",
       "      <td>NaN</td>\n",
       "      <td>google</td>\n",
       "      <td>organic</td>\n",
       "      <td>(not set)</td>\n",
       "      <td>desktop</td>\n",
       "      <td>Windows</td>\n",
       "      <td>not available in demo dataset</td>\n",
       "      <td>not available in demo dataset</td>\n",
       "      <td>Organic Search</td>\n",
       "    </tr>\n",
       "    <tr>\n",
       "      <th>4</th>\n",
       "      <td>1985244892543433393</td>\n",
       "      <td>3</td>\n",
       "      <td>20170427</td>\n",
       "      <td>1493309497</td>\n",
       "      <td>1.0</td>\n",
       "      <td>1.0</td>\n",
       "      <td>NaN</td>\n",
       "      <td>NaN</td>\n",
       "      <td>NaN</td>\n",
       "      <td>google</td>\n",
       "      <td>organic</td>\n",
       "      <td>(not set)</td>\n",
       "      <td>desktop</td>\n",
       "      <td>Windows</td>\n",
       "      <td>not available in demo dataset</td>\n",
       "      <td>not available in demo dataset</td>\n",
       "      <td>Organic Search</td>\n",
       "    </tr>\n",
       "  </tbody>\n",
       "</table>\n",
       "</div>"
      ],
      "text/plain": [
       "         fullVisitorId  VisitNumber      Date  VisitStartTime  bounces  \\\n",
       "0   785078151568671210            1  20170427      1493331229      1.0   \n",
       "1   142102319075727733            1  20170427      1493316667      1.0   \n",
       "2  1015855318272495035            1  20170427      1493295075      1.0   \n",
       "3  7452646484470618802            1  20170427      1493299324      1.0   \n",
       "4  1985244892543433393            3  20170427      1493309497      1.0   \n",
       "\n",
       "   pageviews  timeOnSite  totalTransactionRevenue  transactions  source  \\\n",
       "0        1.0         NaN                      NaN           NaN  google   \n",
       "1        1.0         NaN                      NaN           NaN  google   \n",
       "2        1.0         NaN                      NaN           NaN  google   \n",
       "3        1.0         NaN                      NaN           NaN  google   \n",
       "4        1.0         NaN                      NaN           NaN  google   \n",
       "\n",
       "    medium   campaign deviceCategory operatingSystem  \\\n",
       "0  organic  (not set)        desktop       Macintosh   \n",
       "1  organic  (not set)        desktop       Macintosh   \n",
       "2  organic  (not set)        desktop         Windows   \n",
       "3  organic  (not set)        desktop         Windows   \n",
       "4  organic  (not set)        desktop         Windows   \n",
       "\n",
       "               mobileDeviceModel                           city  \\\n",
       "0  not available in demo dataset                  Mountain View   \n",
       "1  not available in demo dataset  not available in demo dataset   \n",
       "2  not available in demo dataset  not available in demo dataset   \n",
       "3  not available in demo dataset  not available in demo dataset   \n",
       "4  not available in demo dataset  not available in demo dataset   \n",
       "\n",
       "  ChannelGrouping  \n",
       "0  Organic Search  \n",
       "1  Organic Search  \n",
       "2  Organic Search  \n",
       "3  Organic Search  \n",
       "4  Organic Search  "
      ]
     },
     "execution_count": 3,
     "metadata": {},
     "output_type": "execute_result"
    }
   ],
   "source": [
    "dataset.head()  #To View top 5 rows"
   ]
  },
  {
   "cell_type": "code",
   "execution_count": 4,
   "metadata": {},
   "outputs": [
    {
     "data": {
      "text/html": [
       "<div>\n",
       "<style scoped>\n",
       "    .dataframe tbody tr th:only-of-type {\n",
       "        vertical-align: middle;\n",
       "    }\n",
       "\n",
       "    .dataframe tbody tr th {\n",
       "        vertical-align: top;\n",
       "    }\n",
       "\n",
       "    .dataframe thead th {\n",
       "        text-align: right;\n",
       "    }\n",
       "</style>\n",
       "<table border=\"1\" class=\"dataframe\">\n",
       "  <thead>\n",
       "    <tr style=\"text-align: right;\">\n",
       "      <th></th>\n",
       "      <th>fullVisitorId</th>\n",
       "      <th>VisitNumber</th>\n",
       "      <th>Date</th>\n",
       "      <th>VisitStartTime</th>\n",
       "      <th>bounces</th>\n",
       "      <th>pageviews</th>\n",
       "      <th>timeOnSite</th>\n",
       "      <th>totalTransactionRevenue</th>\n",
       "      <th>transactions</th>\n",
       "      <th>source</th>\n",
       "      <th>medium</th>\n",
       "      <th>campaign</th>\n",
       "      <th>deviceCategory</th>\n",
       "      <th>operatingSystem</th>\n",
       "      <th>mobileDeviceModel</th>\n",
       "      <th>city</th>\n",
       "      <th>ChannelGrouping</th>\n",
       "    </tr>\n",
       "  </thead>\n",
       "  <tbody>\n",
       "    <tr>\n",
       "      <th>464434</th>\n",
       "      <td>19334811510064057</td>\n",
       "      <td>1</td>\n",
       "      <td>20170223</td>\n",
       "      <td>1487864152</td>\n",
       "      <td>1.0</td>\n",
       "      <td>1.0</td>\n",
       "      <td>NaN</td>\n",
       "      <td>NaN</td>\n",
       "      <td>NaN</td>\n",
       "      <td>google</td>\n",
       "      <td>organic</td>\n",
       "      <td>(not set)</td>\n",
       "      <td>mobile</td>\n",
       "      <td>iOS</td>\n",
       "      <td>not available in demo dataset</td>\n",
       "      <td>not available in demo dataset</td>\n",
       "      <td>Organic Search</td>\n",
       "    </tr>\n",
       "    <tr>\n",
       "      <th>464435</th>\n",
       "      <td>7224186991271954234</td>\n",
       "      <td>2</td>\n",
       "      <td>20170223</td>\n",
       "      <td>1487897246</td>\n",
       "      <td>1.0</td>\n",
       "      <td>1.0</td>\n",
       "      <td>NaN</td>\n",
       "      <td>NaN</td>\n",
       "      <td>NaN</td>\n",
       "      <td>google</td>\n",
       "      <td>organic</td>\n",
       "      <td>(not set)</td>\n",
       "      <td>desktop</td>\n",
       "      <td>Macintosh</td>\n",
       "      <td>not available in demo dataset</td>\n",
       "      <td>San Francisco</td>\n",
       "      <td>Organic Search</td>\n",
       "    </tr>\n",
       "    <tr>\n",
       "      <th>464436</th>\n",
       "      <td>6280201894815387104</td>\n",
       "      <td>1</td>\n",
       "      <td>20170223</td>\n",
       "      <td>1487881348</td>\n",
       "      <td>1.0</td>\n",
       "      <td>1.0</td>\n",
       "      <td>NaN</td>\n",
       "      <td>NaN</td>\n",
       "      <td>NaN</td>\n",
       "      <td>(direct)</td>\n",
       "      <td>(none)</td>\n",
       "      <td>(not set)</td>\n",
       "      <td>mobile</td>\n",
       "      <td>Android</td>\n",
       "      <td>not available in demo dataset</td>\n",
       "      <td>Bogota</td>\n",
       "      <td>Direct</td>\n",
       "    </tr>\n",
       "    <tr>\n",
       "      <th>464437</th>\n",
       "      <td>4821847590453032628</td>\n",
       "      <td>1</td>\n",
       "      <td>20170223</td>\n",
       "      <td>1487872772</td>\n",
       "      <td>1.0</td>\n",
       "      <td>1.0</td>\n",
       "      <td>NaN</td>\n",
       "      <td>NaN</td>\n",
       "      <td>NaN</td>\n",
       "      <td>int.search.tb.ask.com</td>\n",
       "      <td>referral</td>\n",
       "      <td>(not set)</td>\n",
       "      <td>desktop</td>\n",
       "      <td>Windows</td>\n",
       "      <td>not available in demo dataset</td>\n",
       "      <td>not available in demo dataset</td>\n",
       "      <td>Referral</td>\n",
       "    </tr>\n",
       "    <tr>\n",
       "      <th>464438</th>\n",
       "      <td>2999181270142099348</td>\n",
       "      <td>1</td>\n",
       "      <td>20170223</td>\n",
       "      <td>1487837962</td>\n",
       "      <td>1.0</td>\n",
       "      <td>1.0</td>\n",
       "      <td>NaN</td>\n",
       "      <td>NaN</td>\n",
       "      <td>NaN</td>\n",
       "      <td>google</td>\n",
       "      <td>organic</td>\n",
       "      <td>(not set)</td>\n",
       "      <td>desktop</td>\n",
       "      <td>Windows</td>\n",
       "      <td>not available in demo dataset</td>\n",
       "      <td>(not set)</td>\n",
       "      <td>Organic S</td>\n",
       "    </tr>\n",
       "  </tbody>\n",
       "</table>\n",
       "</div>"
      ],
      "text/plain": [
       "              fullVisitorId  VisitNumber      Date  VisitStartTime  bounces  \\\n",
       "464434    19334811510064057            1  20170223      1487864152      1.0   \n",
       "464435  7224186991271954234            2  20170223      1487897246      1.0   \n",
       "464436  6280201894815387104            1  20170223      1487881348      1.0   \n",
       "464437  4821847590453032628            1  20170223      1487872772      1.0   \n",
       "464438  2999181270142099348            1  20170223      1487837962      1.0   \n",
       "\n",
       "        pageviews  timeOnSite  totalTransactionRevenue  transactions  \\\n",
       "464434        1.0         NaN                      NaN           NaN   \n",
       "464435        1.0         NaN                      NaN           NaN   \n",
       "464436        1.0         NaN                      NaN           NaN   \n",
       "464437        1.0         NaN                      NaN           NaN   \n",
       "464438        1.0         NaN                      NaN           NaN   \n",
       "\n",
       "                       source    medium   campaign deviceCategory  \\\n",
       "464434                 google   organic  (not set)         mobile   \n",
       "464435                 google   organic  (not set)        desktop   \n",
       "464436               (direct)    (none)  (not set)         mobile   \n",
       "464437  int.search.tb.ask.com  referral  (not set)        desktop   \n",
       "464438                 google   organic  (not set)        desktop   \n",
       "\n",
       "       operatingSystem              mobileDeviceModel  \\\n",
       "464434             iOS  not available in demo dataset   \n",
       "464435       Macintosh  not available in demo dataset   \n",
       "464436         Android  not available in demo dataset   \n",
       "464437         Windows  not available in demo dataset   \n",
       "464438         Windows  not available in demo dataset   \n",
       "\n",
       "                                 city ChannelGrouping  \n",
       "464434  not available in demo dataset  Organic Search  \n",
       "464435                  San Francisco  Organic Search  \n",
       "464436                         Bogota          Direct  \n",
       "464437  not available in demo dataset        Referral  \n",
       "464438                      (not set)       Organic S  "
      ]
     },
     "execution_count": 4,
     "metadata": {},
     "output_type": "execute_result"
    }
   ],
   "source": [
    "dataset.tail()    #To View last 5 rows"
   ]
  },
  {
   "cell_type": "code",
   "execution_count": 5,
   "metadata": {},
   "outputs": [
    {
     "data": {
      "text/html": [
       "<div>\n",
       "<style scoped>\n",
       "    .dataframe tbody tr th:only-of-type {\n",
       "        vertical-align: middle;\n",
       "    }\n",
       "\n",
       "    .dataframe tbody tr th {\n",
       "        vertical-align: top;\n",
       "    }\n",
       "\n",
       "    .dataframe thead th {\n",
       "        text-align: right;\n",
       "    }\n",
       "</style>\n",
       "<table border=\"1\" class=\"dataframe\">\n",
       "  <thead>\n",
       "    <tr style=\"text-align: right;\">\n",
       "      <th></th>\n",
       "      <th>fullVisitorId</th>\n",
       "      <th>VisitNumber</th>\n",
       "      <th>Date</th>\n",
       "      <th>VisitStartTime</th>\n",
       "      <th>bounces</th>\n",
       "      <th>pageviews</th>\n",
       "      <th>timeOnSite</th>\n",
       "      <th>totalTransactionRevenue</th>\n",
       "      <th>transactions</th>\n",
       "      <th>source</th>\n",
       "      <th>medium</th>\n",
       "      <th>campaign</th>\n",
       "      <th>deviceCategory</th>\n",
       "      <th>operatingSystem</th>\n",
       "      <th>mobileDeviceModel</th>\n",
       "      <th>city</th>\n",
       "      <th>ChannelGrouping</th>\n",
       "    </tr>\n",
       "  </thead>\n",
       "  <tbody>\n",
       "    <tr>\n",
       "      <th>count</th>\n",
       "      <td>4.644390e+05</td>\n",
       "      <td>464439.000000</td>\n",
       "      <td>4.644390e+05</td>\n",
       "      <td>4.644390e+05</td>\n",
       "      <td>232178.0</td>\n",
       "      <td>464387.000000</td>\n",
       "      <td>231612.000000</td>\n",
       "      <td>6.308000e+03</td>\n",
       "      <td>6308.000000</td>\n",
       "      <td>464439</td>\n",
       "      <td>464439</td>\n",
       "      <td>464439</td>\n",
       "      <td>464439</td>\n",
       "      <td>464439</td>\n",
       "      <td>464439</td>\n",
       "      <td>464439</td>\n",
       "      <td>464439</td>\n",
       "    </tr>\n",
       "    <tr>\n",
       "      <th>unique</th>\n",
       "      <td>3.778990e+05</td>\n",
       "      <td>NaN</td>\n",
       "      <td>NaN</td>\n",
       "      <td>NaN</td>\n",
       "      <td>NaN</td>\n",
       "      <td>NaN</td>\n",
       "      <td>NaN</td>\n",
       "      <td>NaN</td>\n",
       "      <td>NaN</td>\n",
       "      <td>223</td>\n",
       "      <td>7</td>\n",
       "      <td>7</td>\n",
       "      <td>3</td>\n",
       "      <td>18</td>\n",
       "      <td>1</td>\n",
       "      <td>436</td>\n",
       "      <td>9</td>\n",
       "    </tr>\n",
       "    <tr>\n",
       "      <th>top</th>\n",
       "      <td>1.957459e+18</td>\n",
       "      <td>NaN</td>\n",
       "      <td>NaN</td>\n",
       "      <td>NaN</td>\n",
       "      <td>NaN</td>\n",
       "      <td>NaN</td>\n",
       "      <td>NaN</td>\n",
       "      <td>NaN</td>\n",
       "      <td>NaN</td>\n",
       "      <td>(direct)</td>\n",
       "      <td>(none)</td>\n",
       "      <td>(not set)</td>\n",
       "      <td>desktop</td>\n",
       "      <td>Windows</td>\n",
       "      <td>not available in demo dataset</td>\n",
       "      <td>not available in demo dataset</td>\n",
       "      <td>Organic Search</td>\n",
       "    </tr>\n",
       "    <tr>\n",
       "      <th>freq</th>\n",
       "      <td>1.280000e+02</td>\n",
       "      <td>NaN</td>\n",
       "      <td>NaN</td>\n",
       "      <td>NaN</td>\n",
       "      <td>NaN</td>\n",
       "      <td>NaN</td>\n",
       "      <td>NaN</td>\n",
       "      <td>NaN</td>\n",
       "      <td>NaN</td>\n",
       "      <td>187241</td>\n",
       "      <td>187239</td>\n",
       "      <td>446332</td>\n",
       "      <td>312851</td>\n",
       "      <td>171189</td>\n",
       "      <td>464439</td>\n",
       "      <td>268179</td>\n",
       "      <td>232876</td>\n",
       "    </tr>\n",
       "    <tr>\n",
       "      <th>mean</th>\n",
       "      <td>NaN</td>\n",
       "      <td>2.334040</td>\n",
       "      <td>2.017042e+07</td>\n",
       "      <td>1.492485e+09</td>\n",
       "      <td>1.0</td>\n",
       "      <td>3.772011</td>\n",
       "      <td>279.921610</td>\n",
       "      <td>1.617053e+08</td>\n",
       "      <td>1.046449</td>\n",
       "      <td>NaN</td>\n",
       "      <td>NaN</td>\n",
       "      <td>NaN</td>\n",
       "      <td>NaN</td>\n",
       "      <td>NaN</td>\n",
       "      <td>NaN</td>\n",
       "      <td>NaN</td>\n",
       "      <td>NaN</td>\n",
       "    </tr>\n",
       "    <tr>\n",
       "      <th>std</th>\n",
       "      <td>NaN</td>\n",
       "      <td>9.879354</td>\n",
       "      <td>2.006430e+02</td>\n",
       "      <td>5.279611e+06</td>\n",
       "      <td>0.0</td>\n",
       "      <td>6.403579</td>\n",
       "      <td>492.292307</td>\n",
       "      <td>9.034953e+08</td>\n",
       "      <td>0.531457</td>\n",
       "      <td>NaN</td>\n",
       "      <td>NaN</td>\n",
       "      <td>NaN</td>\n",
       "      <td>NaN</td>\n",
       "      <td>NaN</td>\n",
       "      <td>NaN</td>\n",
       "      <td>NaN</td>\n",
       "      <td>NaN</td>\n",
       "    </tr>\n",
       "    <tr>\n",
       "      <th>min</th>\n",
       "      <td>NaN</td>\n",
       "      <td>1.000000</td>\n",
       "      <td>2.017010e+07</td>\n",
       "      <td>1.483258e+09</td>\n",
       "      <td>1.0</td>\n",
       "      <td>1.000000</td>\n",
       "      <td>1.000000</td>\n",
       "      <td>2.200000e+06</td>\n",
       "      <td>1.000000</td>\n",
       "      <td>NaN</td>\n",
       "      <td>NaN</td>\n",
       "      <td>NaN</td>\n",
       "      <td>NaN</td>\n",
       "      <td>NaN</td>\n",
       "      <td>NaN</td>\n",
       "      <td>NaN</td>\n",
       "      <td>NaN</td>\n",
       "    </tr>\n",
       "    <tr>\n",
       "      <th>25%</th>\n",
       "      <td>NaN</td>\n",
       "      <td>1.000000</td>\n",
       "      <td>2.017022e+07</td>\n",
       "      <td>1.487899e+09</td>\n",
       "      <td>1.0</td>\n",
       "      <td>1.000000</td>\n",
       "      <td>33.000000</td>\n",
       "      <td>2.899000e+07</td>\n",
       "      <td>1.000000</td>\n",
       "      <td>NaN</td>\n",
       "      <td>NaN</td>\n",
       "      <td>NaN</td>\n",
       "      <td>NaN</td>\n",
       "      <td>NaN</td>\n",
       "      <td>NaN</td>\n",
       "      <td>NaN</td>\n",
       "      <td>NaN</td>\n",
       "    </tr>\n",
       "    <tr>\n",
       "      <th>50%</th>\n",
       "      <td>NaN</td>\n",
       "      <td>1.000000</td>\n",
       "      <td>2.017042e+07</td>\n",
       "      <td>1.492441e+09</td>\n",
       "      <td>1.0</td>\n",
       "      <td>1.000000</td>\n",
       "      <td>94.000000</td>\n",
       "      <td>5.297500e+07</td>\n",
       "      <td>1.000000</td>\n",
       "      <td>NaN</td>\n",
       "      <td>NaN</td>\n",
       "      <td>NaN</td>\n",
       "      <td>NaN</td>\n",
       "      <td>NaN</td>\n",
       "      <td>NaN</td>\n",
       "      <td>NaN</td>\n",
       "      <td>NaN</td>\n",
       "    </tr>\n",
       "    <tr>\n",
       "      <th>75%</th>\n",
       "      <td>NaN</td>\n",
       "      <td>1.000000</td>\n",
       "      <td>2.017061e+07</td>\n",
       "      <td>1.497075e+09</td>\n",
       "      <td>1.0</td>\n",
       "      <td>4.000000</td>\n",
       "      <td>290.000000</td>\n",
       "      <td>1.119375e+08</td>\n",
       "      <td>1.000000</td>\n",
       "      <td>NaN</td>\n",
       "      <td>NaN</td>\n",
       "      <td>NaN</td>\n",
       "      <td>NaN</td>\n",
       "      <td>NaN</td>\n",
       "      <td>NaN</td>\n",
       "      <td>NaN</td>\n",
       "      <td>NaN</td>\n",
       "    </tr>\n",
       "    <tr>\n",
       "      <th>max</th>\n",
       "      <td>NaN</td>\n",
       "      <td>395.000000</td>\n",
       "      <td>2.017073e+07</td>\n",
       "      <td>1.501571e+09</td>\n",
       "      <td>1.0</td>\n",
       "      <td>466.000000</td>\n",
       "      <td>12136.000000</td>\n",
       "      <td>4.708206e+10</td>\n",
       "      <td>25.000000</td>\n",
       "      <td>NaN</td>\n",
       "      <td>NaN</td>\n",
       "      <td>NaN</td>\n",
       "      <td>NaN</td>\n",
       "      <td>NaN</td>\n",
       "      <td>NaN</td>\n",
       "      <td>NaN</td>\n",
       "      <td>NaN</td>\n",
       "    </tr>\n",
       "  </tbody>\n",
       "</table>\n",
       "</div>"
      ],
      "text/plain": [
       "        fullVisitorId    VisitNumber          Date  VisitStartTime   bounces  \\\n",
       "count    4.644390e+05  464439.000000  4.644390e+05    4.644390e+05  232178.0   \n",
       "unique   3.778990e+05            NaN           NaN             NaN       NaN   \n",
       "top      1.957459e+18            NaN           NaN             NaN       NaN   \n",
       "freq     1.280000e+02            NaN           NaN             NaN       NaN   \n",
       "mean              NaN       2.334040  2.017042e+07    1.492485e+09       1.0   \n",
       "std               NaN       9.879354  2.006430e+02    5.279611e+06       0.0   \n",
       "min               NaN       1.000000  2.017010e+07    1.483258e+09       1.0   \n",
       "25%               NaN       1.000000  2.017022e+07    1.487899e+09       1.0   \n",
       "50%               NaN       1.000000  2.017042e+07    1.492441e+09       1.0   \n",
       "75%               NaN       1.000000  2.017061e+07    1.497075e+09       1.0   \n",
       "max               NaN     395.000000  2.017073e+07    1.501571e+09       1.0   \n",
       "\n",
       "            pageviews     timeOnSite  totalTransactionRevenue  transactions  \\\n",
       "count   464387.000000  231612.000000             6.308000e+03   6308.000000   \n",
       "unique            NaN            NaN                      NaN           NaN   \n",
       "top               NaN            NaN                      NaN           NaN   \n",
       "freq              NaN            NaN                      NaN           NaN   \n",
       "mean         3.772011     279.921610             1.617053e+08      1.046449   \n",
       "std          6.403579     492.292307             9.034953e+08      0.531457   \n",
       "min          1.000000       1.000000             2.200000e+06      1.000000   \n",
       "25%          1.000000      33.000000             2.899000e+07      1.000000   \n",
       "50%          1.000000      94.000000             5.297500e+07      1.000000   \n",
       "75%          4.000000     290.000000             1.119375e+08      1.000000   \n",
       "max        466.000000   12136.000000             4.708206e+10     25.000000   \n",
       "\n",
       "          source  medium   campaign deviceCategory operatingSystem  \\\n",
       "count     464439  464439     464439         464439          464439   \n",
       "unique       223       7          7              3              18   \n",
       "top     (direct)  (none)  (not set)        desktop         Windows   \n",
       "freq      187241  187239     446332         312851          171189   \n",
       "mean         NaN     NaN        NaN            NaN             NaN   \n",
       "std          NaN     NaN        NaN            NaN             NaN   \n",
       "min          NaN     NaN        NaN            NaN             NaN   \n",
       "25%          NaN     NaN        NaN            NaN             NaN   \n",
       "50%          NaN     NaN        NaN            NaN             NaN   \n",
       "75%          NaN     NaN        NaN            NaN             NaN   \n",
       "max          NaN     NaN        NaN            NaN             NaN   \n",
       "\n",
       "                    mobileDeviceModel                           city  \\\n",
       "count                          464439                         464439   \n",
       "unique                              1                            436   \n",
       "top     not available in demo dataset  not available in demo dataset   \n",
       "freq                           464439                         268179   \n",
       "mean                              NaN                            NaN   \n",
       "std                               NaN                            NaN   \n",
       "min                               NaN                            NaN   \n",
       "25%                               NaN                            NaN   \n",
       "50%                               NaN                            NaN   \n",
       "75%                               NaN                            NaN   \n",
       "max                               NaN                            NaN   \n",
       "\n",
       "       ChannelGrouping  \n",
       "count           464439  \n",
       "unique               9  \n",
       "top     Organic Search  \n",
       "freq            232876  \n",
       "mean               NaN  \n",
       "std                NaN  \n",
       "min                NaN  \n",
       "25%                NaN  \n",
       "50%                NaN  \n",
       "75%                NaN  \n",
       "max                NaN  "
      ]
     },
     "execution_count": 5,
     "metadata": {},
     "output_type": "execute_result"
    }
   ],
   "source": [
    "dataset.describe(include='all')"
   ]
  },
  {
   "cell_type": "code",
   "execution_count": 6,
   "metadata": {},
   "outputs": [
    {
     "data": {
      "text/plain": [
       "transactions               458131\n",
       "totalTransactionRevenue    458131\n",
       "timeOnSite                 232827\n",
       "bounces                    232261\n",
       "pageviews                      52\n",
       "VisitNumber                     0\n",
       "Date                            0\n",
       "VisitStartTime                  0\n",
       "ChannelGrouping                 0\n",
       "city                            0\n",
       "source                          0\n",
       "medium                          0\n",
       "campaign                        0\n",
       "deviceCategory                  0\n",
       "operatingSystem                 0\n",
       "mobileDeviceModel               0\n",
       "fullVisitorId                   0\n",
       "dtype: int64"
      ]
     },
     "execution_count": 6,
     "metadata": {},
     "output_type": "execute_result"
    }
   ],
   "source": [
    "# Now i want to sort this data in descending order then\n",
    "dataset.isnull().sum().sort_values(ascending=False)\n",
    "## ascending=False means descending"
   ]
  },
  {
   "cell_type": "code",
   "execution_count": 7,
   "metadata": {},
   "outputs": [
    {
     "data": {
      "text/plain": [
       "fullVisitorId              377899\n",
       "VisitNumber                   383\n",
       "Date                          212\n",
       "VisitStartTime             456611\n",
       "bounces                         1\n",
       "pageviews                     159\n",
       "timeOnSite                   3668\n",
       "totalTransactionRevenue      3695\n",
       "transactions                   11\n",
       "source                        223\n",
       "medium                          7\n",
       "campaign                        7\n",
       "deviceCategory                  3\n",
       "operatingSystem                18\n",
       "mobileDeviceModel               1\n",
       "city                          436\n",
       "ChannelGrouping                 9\n",
       "dtype: int64"
      ]
     },
     "execution_count": 7,
     "metadata": {},
     "output_type": "execute_result"
    }
   ],
   "source": [
    "dataset.nunique()"
   ]
  },
  {
   "cell_type": "code",
   "execution_count": 8,
   "metadata": {},
   "outputs": [
    {
     "name": "stdout",
     "output_type": "stream",
     "text": [
      "<class 'pandas.core.frame.DataFrame'>\n",
      "RangeIndex: 464439 entries, 0 to 464438\n",
      "Data columns (total 17 columns):\n",
      " #   Column                   Non-Null Count   Dtype  \n",
      "---  ------                   --------------   -----  \n",
      " 0   fullVisitorId            464439 non-null  object \n",
      " 1   VisitNumber              464439 non-null  int64  \n",
      " 2   Date                     464439 non-null  int64  \n",
      " 3   VisitStartTime           464439 non-null  int64  \n",
      " 4   bounces                  232178 non-null  float64\n",
      " 5   pageviews                464387 non-null  float64\n",
      " 6   timeOnSite               231612 non-null  float64\n",
      " 7   totalTransactionRevenue  6308 non-null    float64\n",
      " 8   transactions             6308 non-null    float64\n",
      " 9   source                   464439 non-null  object \n",
      " 10  medium                   464439 non-null  object \n",
      " 11  campaign                 464439 non-null  object \n",
      " 12  deviceCategory           464439 non-null  object \n",
      " 13  operatingSystem          464439 non-null  object \n",
      " 14  mobileDeviceModel        464439 non-null  object \n",
      " 15  city                     464439 non-null  object \n",
      " 16  ChannelGrouping          464439 non-null  object \n",
      "dtypes: float64(5), int64(3), object(9)\n",
      "memory usage: 60.2+ MB\n"
     ]
    }
   ],
   "source": [
    "dataset.info()"
   ]
  },
  {
   "cell_type": "code",
   "execution_count": 9,
   "metadata": {},
   "outputs": [],
   "source": [
    "# It's better to make a copy of our original data and work on it so that if anything happens with this dataset \n",
    "# then our original data remains intact\n",
    "df = dataset.copy()"
   ]
  },
  {
   "cell_type": "code",
   "execution_count": 10,
   "metadata": {},
   "outputs": [
    {
     "data": {
      "text/html": [
       "<div>\n",
       "<style scoped>\n",
       "    .dataframe tbody tr th:only-of-type {\n",
       "        vertical-align: middle;\n",
       "    }\n",
       "\n",
       "    .dataframe tbody tr th {\n",
       "        vertical-align: top;\n",
       "    }\n",
       "\n",
       "    .dataframe thead th {\n",
       "        text-align: right;\n",
       "    }\n",
       "</style>\n",
       "<table border=\"1\" class=\"dataframe\">\n",
       "  <thead>\n",
       "    <tr style=\"text-align: right;\">\n",
       "      <th></th>\n",
       "      <th>fullVisitorId</th>\n",
       "      <th>VisitNumber</th>\n",
       "      <th>Date</th>\n",
       "      <th>VisitStartTime</th>\n",
       "      <th>bounces</th>\n",
       "      <th>pageviews</th>\n",
       "      <th>timeOnSite</th>\n",
       "      <th>totalTransactionRevenue</th>\n",
       "      <th>transactions</th>\n",
       "      <th>source</th>\n",
       "      <th>medium</th>\n",
       "      <th>campaign</th>\n",
       "      <th>deviceCategory</th>\n",
       "      <th>operatingSystem</th>\n",
       "      <th>mobileDeviceModel</th>\n",
       "      <th>city</th>\n",
       "      <th>ChannelGrouping</th>\n",
       "    </tr>\n",
       "  </thead>\n",
       "  <tbody>\n",
       "    <tr>\n",
       "      <th>0</th>\n",
       "      <td>785078151568671210</td>\n",
       "      <td>1</td>\n",
       "      <td>20170427</td>\n",
       "      <td>1493331229</td>\n",
       "      <td>1.0</td>\n",
       "      <td>1.0</td>\n",
       "      <td>NaN</td>\n",
       "      <td>NaN</td>\n",
       "      <td>NaN</td>\n",
       "      <td>google</td>\n",
       "      <td>organic</td>\n",
       "      <td>(not set)</td>\n",
       "      <td>desktop</td>\n",
       "      <td>Macintosh</td>\n",
       "      <td>not available in demo dataset</td>\n",
       "      <td>Mountain View</td>\n",
       "      <td>Organic Search</td>\n",
       "    </tr>\n",
       "    <tr>\n",
       "      <th>1</th>\n",
       "      <td>142102319075727733</td>\n",
       "      <td>1</td>\n",
       "      <td>20170427</td>\n",
       "      <td>1493316667</td>\n",
       "      <td>1.0</td>\n",
       "      <td>1.0</td>\n",
       "      <td>NaN</td>\n",
       "      <td>NaN</td>\n",
       "      <td>NaN</td>\n",
       "      <td>google</td>\n",
       "      <td>organic</td>\n",
       "      <td>(not set)</td>\n",
       "      <td>desktop</td>\n",
       "      <td>Macintosh</td>\n",
       "      <td>not available in demo dataset</td>\n",
       "      <td>not available in demo dataset</td>\n",
       "      <td>Organic Search</td>\n",
       "    </tr>\n",
       "    <tr>\n",
       "      <th>2</th>\n",
       "      <td>1015855318272495035</td>\n",
       "      <td>1</td>\n",
       "      <td>20170427</td>\n",
       "      <td>1493295075</td>\n",
       "      <td>1.0</td>\n",
       "      <td>1.0</td>\n",
       "      <td>NaN</td>\n",
       "      <td>NaN</td>\n",
       "      <td>NaN</td>\n",
       "      <td>google</td>\n",
       "      <td>organic</td>\n",
       "      <td>(not set)</td>\n",
       "      <td>desktop</td>\n",
       "      <td>Windows</td>\n",
       "      <td>not available in demo dataset</td>\n",
       "      <td>not available in demo dataset</td>\n",
       "      <td>Organic Search</td>\n",
       "    </tr>\n",
       "    <tr>\n",
       "      <th>3</th>\n",
       "      <td>7452646484470618802</td>\n",
       "      <td>1</td>\n",
       "      <td>20170427</td>\n",
       "      <td>1493299324</td>\n",
       "      <td>1.0</td>\n",
       "      <td>1.0</td>\n",
       "      <td>NaN</td>\n",
       "      <td>NaN</td>\n",
       "      <td>NaN</td>\n",
       "      <td>google</td>\n",
       "      <td>organic</td>\n",
       "      <td>(not set)</td>\n",
       "      <td>desktop</td>\n",
       "      <td>Windows</td>\n",
       "      <td>not available in demo dataset</td>\n",
       "      <td>not available in demo dataset</td>\n",
       "      <td>Organic Search</td>\n",
       "    </tr>\n",
       "    <tr>\n",
       "      <th>4</th>\n",
       "      <td>1985244892543433393</td>\n",
       "      <td>3</td>\n",
       "      <td>20170427</td>\n",
       "      <td>1493309497</td>\n",
       "      <td>1.0</td>\n",
       "      <td>1.0</td>\n",
       "      <td>NaN</td>\n",
       "      <td>NaN</td>\n",
       "      <td>NaN</td>\n",
       "      <td>google</td>\n",
       "      <td>organic</td>\n",
       "      <td>(not set)</td>\n",
       "      <td>desktop</td>\n",
       "      <td>Windows</td>\n",
       "      <td>not available in demo dataset</td>\n",
       "      <td>not available in demo dataset</td>\n",
       "      <td>Organic Search</td>\n",
       "    </tr>\n",
       "  </tbody>\n",
       "</table>\n",
       "</div>"
      ],
      "text/plain": [
       "         fullVisitorId  VisitNumber      Date  VisitStartTime  bounces  \\\n",
       "0   785078151568671210            1  20170427      1493331229      1.0   \n",
       "1   142102319075727733            1  20170427      1493316667      1.0   \n",
       "2  1015855318272495035            1  20170427      1493295075      1.0   \n",
       "3  7452646484470618802            1  20170427      1493299324      1.0   \n",
       "4  1985244892543433393            3  20170427      1493309497      1.0   \n",
       "\n",
       "   pageviews  timeOnSite  totalTransactionRevenue  transactions  source  \\\n",
       "0        1.0         NaN                      NaN           NaN  google   \n",
       "1        1.0         NaN                      NaN           NaN  google   \n",
       "2        1.0         NaN                      NaN           NaN  google   \n",
       "3        1.0         NaN                      NaN           NaN  google   \n",
       "4        1.0         NaN                      NaN           NaN  google   \n",
       "\n",
       "    medium   campaign deviceCategory operatingSystem  \\\n",
       "0  organic  (not set)        desktop       Macintosh   \n",
       "1  organic  (not set)        desktop       Macintosh   \n",
       "2  organic  (not set)        desktop         Windows   \n",
       "3  organic  (not set)        desktop         Windows   \n",
       "4  organic  (not set)        desktop         Windows   \n",
       "\n",
       "               mobileDeviceModel                           city  \\\n",
       "0  not available in demo dataset                  Mountain View   \n",
       "1  not available in demo dataset  not available in demo dataset   \n",
       "2  not available in demo dataset  not available in demo dataset   \n",
       "3  not available in demo dataset  not available in demo dataset   \n",
       "4  not available in demo dataset  not available in demo dataset   \n",
       "\n",
       "  ChannelGrouping  \n",
       "0  Organic Search  \n",
       "1  Organic Search  \n",
       "2  Organic Search  \n",
       "3  Organic Search  \n",
       "4  Organic Search  "
      ]
     },
     "execution_count": 10,
     "metadata": {},
     "output_type": "execute_result"
    }
   ],
   "source": [
    "df.head()"
   ]
  },
  {
   "cell_type": "markdown",
   "metadata": {},
   "source": [
    "# Data Cleaning"
   ]
  },
  {
   "cell_type": "code",
   "execution_count": 11,
   "metadata": {},
   "outputs": [
    {
     "data": {
      "text/html": [
       "<div>\n",
       "<style scoped>\n",
       "    .dataframe tbody tr th:only-of-type {\n",
       "        vertical-align: middle;\n",
       "    }\n",
       "\n",
       "    .dataframe tbody tr th {\n",
       "        vertical-align: top;\n",
       "    }\n",
       "\n",
       "    .dataframe thead th {\n",
       "        text-align: right;\n",
       "    }\n",
       "</style>\n",
       "<table border=\"1\" class=\"dataframe\">\n",
       "  <thead>\n",
       "    <tr style=\"text-align: right;\">\n",
       "      <th></th>\n",
       "      <th>fullVisitorId</th>\n",
       "      <th>VisitNumber</th>\n",
       "      <th>Date</th>\n",
       "      <th>VisitStartTime</th>\n",
       "      <th>bounces</th>\n",
       "      <th>pageviews</th>\n",
       "      <th>timeOnSite</th>\n",
       "      <th>totalTransactionRevenue</th>\n",
       "      <th>transactions</th>\n",
       "      <th>source</th>\n",
       "      <th>medium</th>\n",
       "      <th>campaign</th>\n",
       "      <th>deviceCategory</th>\n",
       "      <th>operatingSystem</th>\n",
       "      <th>mobileDeviceModel</th>\n",
       "      <th>city</th>\n",
       "      <th>ChannelGrouping</th>\n",
       "    </tr>\n",
       "  </thead>\n",
       "  <tbody>\n",
       "    <tr>\n",
       "      <th>0</th>\n",
       "      <td>785078151568671210</td>\n",
       "      <td>1</td>\n",
       "      <td>20170427</td>\n",
       "      <td>1493331229</td>\n",
       "      <td>1.0</td>\n",
       "      <td>1.0</td>\n",
       "      <td>NaN</td>\n",
       "      <td>NaN</td>\n",
       "      <td>NaN</td>\n",
       "      <td>google</td>\n",
       "      <td>organic</td>\n",
       "      <td>(not set)</td>\n",
       "      <td>desktop</td>\n",
       "      <td>Macintosh</td>\n",
       "      <td>not available in demo dataset</td>\n",
       "      <td>Mountain View</td>\n",
       "      <td>Organic Search</td>\n",
       "    </tr>\n",
       "    <tr>\n",
       "      <th>1</th>\n",
       "      <td>142102319075727733</td>\n",
       "      <td>1</td>\n",
       "      <td>20170427</td>\n",
       "      <td>1493316667</td>\n",
       "      <td>1.0</td>\n",
       "      <td>1.0</td>\n",
       "      <td>NaN</td>\n",
       "      <td>NaN</td>\n",
       "      <td>NaN</td>\n",
       "      <td>google</td>\n",
       "      <td>organic</td>\n",
       "      <td>(not set)</td>\n",
       "      <td>desktop</td>\n",
       "      <td>Macintosh</td>\n",
       "      <td>not available in demo dataset</td>\n",
       "      <td>not available in demo dataset</td>\n",
       "      <td>Organic Search</td>\n",
       "    </tr>\n",
       "    <tr>\n",
       "      <th>2</th>\n",
       "      <td>1015855318272495035</td>\n",
       "      <td>1</td>\n",
       "      <td>20170427</td>\n",
       "      <td>1493295075</td>\n",
       "      <td>1.0</td>\n",
       "      <td>1.0</td>\n",
       "      <td>NaN</td>\n",
       "      <td>NaN</td>\n",
       "      <td>NaN</td>\n",
       "      <td>google</td>\n",
       "      <td>organic</td>\n",
       "      <td>(not set)</td>\n",
       "      <td>desktop</td>\n",
       "      <td>Windows</td>\n",
       "      <td>not available in demo dataset</td>\n",
       "      <td>not available in demo dataset</td>\n",
       "      <td>Organic Search</td>\n",
       "    </tr>\n",
       "    <tr>\n",
       "      <th>3</th>\n",
       "      <td>7452646484470618802</td>\n",
       "      <td>1</td>\n",
       "      <td>20170427</td>\n",
       "      <td>1493299324</td>\n",
       "      <td>1.0</td>\n",
       "      <td>1.0</td>\n",
       "      <td>NaN</td>\n",
       "      <td>NaN</td>\n",
       "      <td>NaN</td>\n",
       "      <td>google</td>\n",
       "      <td>organic</td>\n",
       "      <td>(not set)</td>\n",
       "      <td>desktop</td>\n",
       "      <td>Windows</td>\n",
       "      <td>not available in demo dataset</td>\n",
       "      <td>not available in demo dataset</td>\n",
       "      <td>Organic Search</td>\n",
       "    </tr>\n",
       "    <tr>\n",
       "      <th>4</th>\n",
       "      <td>1985244892543433393</td>\n",
       "      <td>3</td>\n",
       "      <td>20170427</td>\n",
       "      <td>1493309497</td>\n",
       "      <td>1.0</td>\n",
       "      <td>1.0</td>\n",
       "      <td>NaN</td>\n",
       "      <td>NaN</td>\n",
       "      <td>NaN</td>\n",
       "      <td>google</td>\n",
       "      <td>organic</td>\n",
       "      <td>(not set)</td>\n",
       "      <td>desktop</td>\n",
       "      <td>Windows</td>\n",
       "      <td>not available in demo dataset</td>\n",
       "      <td>not available in demo dataset</td>\n",
       "      <td>Organic Search</td>\n",
       "    </tr>\n",
       "  </tbody>\n",
       "</table>\n",
       "</div>"
      ],
      "text/plain": [
       "         fullVisitorId  VisitNumber      Date  VisitStartTime  bounces  \\\n",
       "0   785078151568671210            1  20170427      1493331229      1.0   \n",
       "1   142102319075727733            1  20170427      1493316667      1.0   \n",
       "2  1015855318272495035            1  20170427      1493295075      1.0   \n",
       "3  7452646484470618802            1  20170427      1493299324      1.0   \n",
       "4  1985244892543433393            3  20170427      1493309497      1.0   \n",
       "\n",
       "   pageviews  timeOnSite  totalTransactionRevenue  transactions  source  \\\n",
       "0        1.0         NaN                      NaN           NaN  google   \n",
       "1        1.0         NaN                      NaN           NaN  google   \n",
       "2        1.0         NaN                      NaN           NaN  google   \n",
       "3        1.0         NaN                      NaN           NaN  google   \n",
       "4        1.0         NaN                      NaN           NaN  google   \n",
       "\n",
       "    medium   campaign deviceCategory operatingSystem  \\\n",
       "0  organic  (not set)        desktop       Macintosh   \n",
       "1  organic  (not set)        desktop       Macintosh   \n",
       "2  organic  (not set)        desktop         Windows   \n",
       "3  organic  (not set)        desktop         Windows   \n",
       "4  organic  (not set)        desktop         Windows   \n",
       "\n",
       "               mobileDeviceModel                           city  \\\n",
       "0  not available in demo dataset                  Mountain View   \n",
       "1  not available in demo dataset  not available in demo dataset   \n",
       "2  not available in demo dataset  not available in demo dataset   \n",
       "3  not available in demo dataset  not available in demo dataset   \n",
       "4  not available in demo dataset  not available in demo dataset   \n",
       "\n",
       "  ChannelGrouping  \n",
       "0  Organic Search  \n",
       "1  Organic Search  \n",
       "2  Organic Search  \n",
       "3  Organic Search  \n",
       "4  Organic Search  "
      ]
     },
     "execution_count": 11,
     "metadata": {},
     "output_type": "execute_result"
    }
   ],
   "source": [
    "df.head() "
   ]
  },
  {
   "cell_type": "code",
   "execution_count": 12,
   "metadata": {},
   "outputs": [],
   "source": [
    "from datetime import datetime\n",
    "df['VisitStartTime']=pd.to_datetime(df['VisitStartTime'],unit='s')"
   ]
  },
  {
   "cell_type": "code",
   "execution_count": 13,
   "metadata": {},
   "outputs": [],
   "source": [
    "# extracting year, month, day, hour, minute from date\n",
    "df['year'] = df['VisitStartTime'].dt.year\n",
    "df['month'] = df['VisitStartTime'].dt.month\n",
    "df['day'] = df['VisitStartTime'].dt.day\n",
    "df['hour'] = df['VisitStartTime'].dt.hour\n",
    "df['minute'] = df['VisitStartTime'].dt.minute"
   ]
  },
  {
   "cell_type": "code",
   "execution_count": 14,
   "metadata": {},
   "outputs": [],
   "source": [
    "# Here fullVisitorId is just an ID number column which is not providing any information to us so better to drop this \n",
    "# Date and VisitStartTime are provding same information so better to drop one of them so lets drop Date column\n",
    "# Mobile Device Model is also not important for us so better to drop all these 3 columns\n",
    "\n",
    "df = df.drop(['fullVisitorId', 'Date', 'mobileDeviceModel'], axis=1)"
   ]
  },
  {
   "cell_type": "code",
   "execution_count": 15,
   "metadata": {},
   "outputs": [
    {
     "data": {
      "text/html": [
       "<div>\n",
       "<style scoped>\n",
       "    .dataframe tbody tr th:only-of-type {\n",
       "        vertical-align: middle;\n",
       "    }\n",
       "\n",
       "    .dataframe tbody tr th {\n",
       "        vertical-align: top;\n",
       "    }\n",
       "\n",
       "    .dataframe thead th {\n",
       "        text-align: right;\n",
       "    }\n",
       "</style>\n",
       "<table border=\"1\" class=\"dataframe\">\n",
       "  <thead>\n",
       "    <tr style=\"text-align: right;\">\n",
       "      <th></th>\n",
       "      <th>VisitNumber</th>\n",
       "      <th>VisitStartTime</th>\n",
       "      <th>bounces</th>\n",
       "      <th>pageviews</th>\n",
       "      <th>timeOnSite</th>\n",
       "      <th>totalTransactionRevenue</th>\n",
       "      <th>transactions</th>\n",
       "      <th>source</th>\n",
       "      <th>medium</th>\n",
       "      <th>campaign</th>\n",
       "      <th>deviceCategory</th>\n",
       "      <th>operatingSystem</th>\n",
       "      <th>city</th>\n",
       "      <th>ChannelGrouping</th>\n",
       "      <th>year</th>\n",
       "      <th>month</th>\n",
       "      <th>day</th>\n",
       "      <th>hour</th>\n",
       "      <th>minute</th>\n",
       "    </tr>\n",
       "  </thead>\n",
       "  <tbody>\n",
       "    <tr>\n",
       "      <th>0</th>\n",
       "      <td>1</td>\n",
       "      <td>2017-04-27 22:13:49</td>\n",
       "      <td>1.0</td>\n",
       "      <td>1.0</td>\n",
       "      <td>NaN</td>\n",
       "      <td>NaN</td>\n",
       "      <td>NaN</td>\n",
       "      <td>google</td>\n",
       "      <td>organic</td>\n",
       "      <td>(not set)</td>\n",
       "      <td>desktop</td>\n",
       "      <td>Macintosh</td>\n",
       "      <td>Mountain View</td>\n",
       "      <td>Organic Search</td>\n",
       "      <td>2017</td>\n",
       "      <td>4</td>\n",
       "      <td>27</td>\n",
       "      <td>22</td>\n",
       "      <td>13</td>\n",
       "    </tr>\n",
       "    <tr>\n",
       "      <th>1</th>\n",
       "      <td>1</td>\n",
       "      <td>2017-04-27 18:11:07</td>\n",
       "      <td>1.0</td>\n",
       "      <td>1.0</td>\n",
       "      <td>NaN</td>\n",
       "      <td>NaN</td>\n",
       "      <td>NaN</td>\n",
       "      <td>google</td>\n",
       "      <td>organic</td>\n",
       "      <td>(not set)</td>\n",
       "      <td>desktop</td>\n",
       "      <td>Macintosh</td>\n",
       "      <td>not available in demo dataset</td>\n",
       "      <td>Organic Search</td>\n",
       "      <td>2017</td>\n",
       "      <td>4</td>\n",
       "      <td>27</td>\n",
       "      <td>18</td>\n",
       "      <td>11</td>\n",
       "    </tr>\n",
       "    <tr>\n",
       "      <th>2</th>\n",
       "      <td>1</td>\n",
       "      <td>2017-04-27 12:11:15</td>\n",
       "      <td>1.0</td>\n",
       "      <td>1.0</td>\n",
       "      <td>NaN</td>\n",
       "      <td>NaN</td>\n",
       "      <td>NaN</td>\n",
       "      <td>google</td>\n",
       "      <td>organic</td>\n",
       "      <td>(not set)</td>\n",
       "      <td>desktop</td>\n",
       "      <td>Windows</td>\n",
       "      <td>not available in demo dataset</td>\n",
       "      <td>Organic Search</td>\n",
       "      <td>2017</td>\n",
       "      <td>4</td>\n",
       "      <td>27</td>\n",
       "      <td>12</td>\n",
       "      <td>11</td>\n",
       "    </tr>\n",
       "    <tr>\n",
       "      <th>3</th>\n",
       "      <td>1</td>\n",
       "      <td>2017-04-27 13:22:04</td>\n",
       "      <td>1.0</td>\n",
       "      <td>1.0</td>\n",
       "      <td>NaN</td>\n",
       "      <td>NaN</td>\n",
       "      <td>NaN</td>\n",
       "      <td>google</td>\n",
       "      <td>organic</td>\n",
       "      <td>(not set)</td>\n",
       "      <td>desktop</td>\n",
       "      <td>Windows</td>\n",
       "      <td>not available in demo dataset</td>\n",
       "      <td>Organic Search</td>\n",
       "      <td>2017</td>\n",
       "      <td>4</td>\n",
       "      <td>27</td>\n",
       "      <td>13</td>\n",
       "      <td>22</td>\n",
       "    </tr>\n",
       "    <tr>\n",
       "      <th>4</th>\n",
       "      <td>3</td>\n",
       "      <td>2017-04-27 16:11:37</td>\n",
       "      <td>1.0</td>\n",
       "      <td>1.0</td>\n",
       "      <td>NaN</td>\n",
       "      <td>NaN</td>\n",
       "      <td>NaN</td>\n",
       "      <td>google</td>\n",
       "      <td>organic</td>\n",
       "      <td>(not set)</td>\n",
       "      <td>desktop</td>\n",
       "      <td>Windows</td>\n",
       "      <td>not available in demo dataset</td>\n",
       "      <td>Organic Search</td>\n",
       "      <td>2017</td>\n",
       "      <td>4</td>\n",
       "      <td>27</td>\n",
       "      <td>16</td>\n",
       "      <td>11</td>\n",
       "    </tr>\n",
       "  </tbody>\n",
       "</table>\n",
       "</div>"
      ],
      "text/plain": [
       "   VisitNumber      VisitStartTime  bounces  pageviews  timeOnSite  \\\n",
       "0            1 2017-04-27 22:13:49      1.0        1.0         NaN   \n",
       "1            1 2017-04-27 18:11:07      1.0        1.0         NaN   \n",
       "2            1 2017-04-27 12:11:15      1.0        1.0         NaN   \n",
       "3            1 2017-04-27 13:22:04      1.0        1.0         NaN   \n",
       "4            3 2017-04-27 16:11:37      1.0        1.0         NaN   \n",
       "\n",
       "   totalTransactionRevenue  transactions  source   medium   campaign  \\\n",
       "0                      NaN           NaN  google  organic  (not set)   \n",
       "1                      NaN           NaN  google  organic  (not set)   \n",
       "2                      NaN           NaN  google  organic  (not set)   \n",
       "3                      NaN           NaN  google  organic  (not set)   \n",
       "4                      NaN           NaN  google  organic  (not set)   \n",
       "\n",
       "  deviceCategory operatingSystem                           city  \\\n",
       "0        desktop       Macintosh                  Mountain View   \n",
       "1        desktop       Macintosh  not available in demo dataset   \n",
       "2        desktop         Windows  not available in demo dataset   \n",
       "3        desktop         Windows  not available in demo dataset   \n",
       "4        desktop         Windows  not available in demo dataset   \n",
       "\n",
       "  ChannelGrouping  year  month  day  hour  minute  \n",
       "0  Organic Search  2017      4   27    22      13  \n",
       "1  Organic Search  2017      4   27    18      11  \n",
       "2  Organic Search  2017      4   27    12      11  \n",
       "3  Organic Search  2017      4   27    13      22  \n",
       "4  Organic Search  2017      4   27    16      11  "
      ]
     },
     "execution_count": 15,
     "metadata": {},
     "output_type": "execute_result"
    }
   ],
   "source": [
    "df.head()  "
   ]
  },
  {
   "cell_type": "code",
   "execution_count": 16,
   "metadata": {},
   "outputs": [],
   "source": [
    "#  if bounces = 1 then there will be no transaction. Hence when bounce = 0 or NA will be accounted into,We replace all NaN  \n",
    "#  values in this column with 0.\n",
    "# if a user has no page views,there will be no transaction. Hence we  can replace the NaN values in this column with 0.\n",
    "#  if a user has no total time on site,there will be no transaction. Hence we replace the NaN values in this column with 0"
   ]
  },
  {
   "cell_type": "code",
   "execution_count": 17,
   "metadata": {},
   "outputs": [
    {
     "data": {
      "text/plain": [
       "1.0    232178\n",
       "Name: bounces, dtype: int64"
      ]
     },
     "execution_count": 17,
     "metadata": {},
     "output_type": "execute_result"
    }
   ],
   "source": [
    "df['bounces'].value_counts()"
   ]
  },
  {
   "cell_type": "code",
   "execution_count": 18,
   "metadata": {},
   "outputs": [],
   "source": [
    "df['bounces'].fillna(0,inplace=True)\n",
    "df['pageviews'].fillna(0,inplace=True)\n",
    "df['timeOnSite'].fillna(0,inplace=True)"
   ]
  },
  {
   "cell_type": "code",
   "execution_count": 19,
   "metadata": {},
   "outputs": [
    {
     "data": {
      "text/html": [
       "<div>\n",
       "<style scoped>\n",
       "    .dataframe tbody tr th:only-of-type {\n",
       "        vertical-align: middle;\n",
       "    }\n",
       "\n",
       "    .dataframe tbody tr th {\n",
       "        vertical-align: top;\n",
       "    }\n",
       "\n",
       "    .dataframe thead th {\n",
       "        text-align: right;\n",
       "    }\n",
       "</style>\n",
       "<table border=\"1\" class=\"dataframe\">\n",
       "  <thead>\n",
       "    <tr style=\"text-align: right;\">\n",
       "      <th></th>\n",
       "      <th>VisitNumber</th>\n",
       "      <th>VisitStartTime</th>\n",
       "      <th>bounces</th>\n",
       "      <th>pageviews</th>\n",
       "      <th>timeOnSite</th>\n",
       "      <th>totalTransactionRevenue</th>\n",
       "      <th>transactions</th>\n",
       "      <th>source</th>\n",
       "      <th>medium</th>\n",
       "      <th>campaign</th>\n",
       "      <th>deviceCategory</th>\n",
       "      <th>operatingSystem</th>\n",
       "      <th>city</th>\n",
       "      <th>ChannelGrouping</th>\n",
       "      <th>year</th>\n",
       "      <th>month</th>\n",
       "      <th>day</th>\n",
       "      <th>hour</th>\n",
       "      <th>minute</th>\n",
       "    </tr>\n",
       "  </thead>\n",
       "  <tbody>\n",
       "    <tr>\n",
       "      <th>0</th>\n",
       "      <td>1</td>\n",
       "      <td>2017-04-27 22:13:49</td>\n",
       "      <td>1.0</td>\n",
       "      <td>1.0</td>\n",
       "      <td>0.0</td>\n",
       "      <td>NaN</td>\n",
       "      <td>NaN</td>\n",
       "      <td>google</td>\n",
       "      <td>organic</td>\n",
       "      <td>(not set)</td>\n",
       "      <td>desktop</td>\n",
       "      <td>Macintosh</td>\n",
       "      <td>Mountain View</td>\n",
       "      <td>Organic Search</td>\n",
       "      <td>2017</td>\n",
       "      <td>4</td>\n",
       "      <td>27</td>\n",
       "      <td>22</td>\n",
       "      <td>13</td>\n",
       "    </tr>\n",
       "    <tr>\n",
       "      <th>1</th>\n",
       "      <td>1</td>\n",
       "      <td>2017-04-27 18:11:07</td>\n",
       "      <td>1.0</td>\n",
       "      <td>1.0</td>\n",
       "      <td>0.0</td>\n",
       "      <td>NaN</td>\n",
       "      <td>NaN</td>\n",
       "      <td>google</td>\n",
       "      <td>organic</td>\n",
       "      <td>(not set)</td>\n",
       "      <td>desktop</td>\n",
       "      <td>Macintosh</td>\n",
       "      <td>not available in demo dataset</td>\n",
       "      <td>Organic Search</td>\n",
       "      <td>2017</td>\n",
       "      <td>4</td>\n",
       "      <td>27</td>\n",
       "      <td>18</td>\n",
       "      <td>11</td>\n",
       "    </tr>\n",
       "    <tr>\n",
       "      <th>2</th>\n",
       "      <td>1</td>\n",
       "      <td>2017-04-27 12:11:15</td>\n",
       "      <td>1.0</td>\n",
       "      <td>1.0</td>\n",
       "      <td>0.0</td>\n",
       "      <td>NaN</td>\n",
       "      <td>NaN</td>\n",
       "      <td>google</td>\n",
       "      <td>organic</td>\n",
       "      <td>(not set)</td>\n",
       "      <td>desktop</td>\n",
       "      <td>Windows</td>\n",
       "      <td>not available in demo dataset</td>\n",
       "      <td>Organic Search</td>\n",
       "      <td>2017</td>\n",
       "      <td>4</td>\n",
       "      <td>27</td>\n",
       "      <td>12</td>\n",
       "      <td>11</td>\n",
       "    </tr>\n",
       "    <tr>\n",
       "      <th>3</th>\n",
       "      <td>1</td>\n",
       "      <td>2017-04-27 13:22:04</td>\n",
       "      <td>1.0</td>\n",
       "      <td>1.0</td>\n",
       "      <td>0.0</td>\n",
       "      <td>NaN</td>\n",
       "      <td>NaN</td>\n",
       "      <td>google</td>\n",
       "      <td>organic</td>\n",
       "      <td>(not set)</td>\n",
       "      <td>desktop</td>\n",
       "      <td>Windows</td>\n",
       "      <td>not available in demo dataset</td>\n",
       "      <td>Organic Search</td>\n",
       "      <td>2017</td>\n",
       "      <td>4</td>\n",
       "      <td>27</td>\n",
       "      <td>13</td>\n",
       "      <td>22</td>\n",
       "    </tr>\n",
       "    <tr>\n",
       "      <th>4</th>\n",
       "      <td>3</td>\n",
       "      <td>2017-04-27 16:11:37</td>\n",
       "      <td>1.0</td>\n",
       "      <td>1.0</td>\n",
       "      <td>0.0</td>\n",
       "      <td>NaN</td>\n",
       "      <td>NaN</td>\n",
       "      <td>google</td>\n",
       "      <td>organic</td>\n",
       "      <td>(not set)</td>\n",
       "      <td>desktop</td>\n",
       "      <td>Windows</td>\n",
       "      <td>not available in demo dataset</td>\n",
       "      <td>Organic Search</td>\n",
       "      <td>2017</td>\n",
       "      <td>4</td>\n",
       "      <td>27</td>\n",
       "      <td>16</td>\n",
       "      <td>11</td>\n",
       "    </tr>\n",
       "  </tbody>\n",
       "</table>\n",
       "</div>"
      ],
      "text/plain": [
       "   VisitNumber      VisitStartTime  bounces  pageviews  timeOnSite  \\\n",
       "0            1 2017-04-27 22:13:49      1.0        1.0         0.0   \n",
       "1            1 2017-04-27 18:11:07      1.0        1.0         0.0   \n",
       "2            1 2017-04-27 12:11:15      1.0        1.0         0.0   \n",
       "3            1 2017-04-27 13:22:04      1.0        1.0         0.0   \n",
       "4            3 2017-04-27 16:11:37      1.0        1.0         0.0   \n",
       "\n",
       "   totalTransactionRevenue  transactions  source   medium   campaign  \\\n",
       "0                      NaN           NaN  google  organic  (not set)   \n",
       "1                      NaN           NaN  google  organic  (not set)   \n",
       "2                      NaN           NaN  google  organic  (not set)   \n",
       "3                      NaN           NaN  google  organic  (not set)   \n",
       "4                      NaN           NaN  google  organic  (not set)   \n",
       "\n",
       "  deviceCategory operatingSystem                           city  \\\n",
       "0        desktop       Macintosh                  Mountain View   \n",
       "1        desktop       Macintosh  not available in demo dataset   \n",
       "2        desktop         Windows  not available in demo dataset   \n",
       "3        desktop         Windows  not available in demo dataset   \n",
       "4        desktop         Windows  not available in demo dataset   \n",
       "\n",
       "  ChannelGrouping  year  month  day  hour  minute  \n",
       "0  Organic Search  2017      4   27    22      13  \n",
       "1  Organic Search  2017      4   27    18      11  \n",
       "2  Organic Search  2017      4   27    12      11  \n",
       "3  Organic Search  2017      4   27    13      22  \n",
       "4  Organic Search  2017      4   27    16      11  "
      ]
     },
     "execution_count": 19,
     "metadata": {},
     "output_type": "execute_result"
    }
   ],
   "source": [
    "df.head()"
   ]
  },
  {
   "cell_type": "markdown",
   "metadata": {},
   "source": [
    "Here we Observe that totalTransactionRevenue & transactions columns are inter related if one is showing NaN then the other is\n",
    " also showing NaN value."
   ]
  },
  {
   "cell_type": "code",
   "execution_count": 20,
   "metadata": {},
   "outputs": [
    {
     "data": {
      "image/png": "[encoded data removed]",
      "text/plain": [
       "<Figure size 432x288 with 2 Axes>"
      ]
     },
     "metadata": {
      "needs_background": "light"
     },
     "output_type": "display_data"
    }
   ],
   "source": [
    "sns.heatmap(df[['totalTransactionRevenue','transactions']].corr(), annot=True, cmap = 'Reds')\n",
    "plt.show()"
   ]
  },
  {
   "cell_type": "code",
   "execution_count": 21,
   "metadata": {},
   "outputs": [],
   "source": [
    "#Still its better to verify so\n",
    "df['diff'] = df.totalTransactionRevenue.eq(pd.to_numeric(df.transactions, errors='coerce'))"
   ]
  },
  {
   "cell_type": "code",
   "execution_count": 22,
   "metadata": {},
   "outputs": [
    {
     "data": {
      "text/plain": [
       "False    464439\n",
       "Name: diff, dtype: int64"
      ]
     },
     "execution_count": 22,
     "metadata": {},
     "output_type": "execute_result"
    }
   ],
   "source": [
    "df['diff'].value_counts()"
   ]
  },
  {
   "cell_type": "code",
   "execution_count": 23,
   "metadata": {},
   "outputs": [
    {
     "data": {
      "text/plain": [
       "23990000.0    49\n",
       "22990000.0    48\n",
       "25990000.0    46\n",
       "21990000.0    44\n",
       "24990000.0    41\n",
       "              ..\n",
       "24720000.0     1\n",
       "98870000.0     1\n",
       "61790000.0     1\n",
       "98830000.0     1\n",
       "24150000.0     1\n",
       "Name: totalTransactionRevenue, Length: 3695, dtype: int64"
      ]
     },
     "execution_count": 23,
     "metadata": {},
     "output_type": "execute_result"
    }
   ],
   "source": [
    "df['totalTransactionRevenue'].value_counts()"
   ]
  },
  {
   "cell_type": "code",
   "execution_count": 24,
   "metadata": {},
   "outputs": [],
   "source": [
    "# Now we can replace all missing values by 0"
   ]
  },
  {
   "cell_type": "code",
   "execution_count": 25,
   "metadata": {},
   "outputs": [],
   "source": [
    "df['totalTransactionRevenue'].fillna(0,inplace=True)\n",
    "df['transactions'].fillna(0,inplace=True)"
   ]
  },
  {
   "cell_type": "code",
   "execution_count": 26,
   "metadata": {},
   "outputs": [
    {
     "data": {
      "text/html": [
       "<div>\n",
       "<style scoped>\n",
       "    .dataframe tbody tr th:only-of-type {\n",
       "        vertical-align: middle;\n",
       "    }\n",
       "\n",
       "    .dataframe tbody tr th {\n",
       "        vertical-align: top;\n",
       "    }\n",
       "\n",
       "    .dataframe thead th {\n",
       "        text-align: right;\n",
       "    }\n",
       "</style>\n",
       "<table border=\"1\" class=\"dataframe\">\n",
       "  <thead>\n",
       "    <tr style=\"text-align: right;\">\n",
       "      <th></th>\n",
       "      <th>VisitNumber</th>\n",
       "      <th>VisitStartTime</th>\n",
       "      <th>bounces</th>\n",
       "      <th>pageviews</th>\n",
       "      <th>timeOnSite</th>\n",
       "      <th>totalTransactionRevenue</th>\n",
       "      <th>transactions</th>\n",
       "      <th>source</th>\n",
       "      <th>medium</th>\n",
       "      <th>campaign</th>\n",
       "      <th>deviceCategory</th>\n",
       "      <th>operatingSystem</th>\n",
       "      <th>city</th>\n",
       "      <th>ChannelGrouping</th>\n",
       "      <th>year</th>\n",
       "      <th>month</th>\n",
       "      <th>day</th>\n",
       "      <th>hour</th>\n",
       "      <th>minute</th>\n",
       "      <th>diff</th>\n",
       "    </tr>\n",
       "  </thead>\n",
       "  <tbody>\n",
       "    <tr>\n",
       "      <th>0</th>\n",
       "      <td>1</td>\n",
       "      <td>2017-04-27 22:13:49</td>\n",
       "      <td>1.0</td>\n",
       "      <td>1.0</td>\n",
       "      <td>0.0</td>\n",
       "      <td>0.0</td>\n",
       "      <td>0.0</td>\n",
       "      <td>google</td>\n",
       "      <td>organic</td>\n",
       "      <td>(not set)</td>\n",
       "      <td>desktop</td>\n",
       "      <td>Macintosh</td>\n",
       "      <td>Mountain View</td>\n",
       "      <td>Organic Search</td>\n",
       "      <td>2017</td>\n",
       "      <td>4</td>\n",
       "      <td>27</td>\n",
       "      <td>22</td>\n",
       "      <td>13</td>\n",
       "      <td>False</td>\n",
       "    </tr>\n",
       "    <tr>\n",
       "      <th>1</th>\n",
       "      <td>1</td>\n",
       "      <td>2017-04-27 18:11:07</td>\n",
       "      <td>1.0</td>\n",
       "      <td>1.0</td>\n",
       "      <td>0.0</td>\n",
       "      <td>0.0</td>\n",
       "      <td>0.0</td>\n",
       "      <td>google</td>\n",
       "      <td>organic</td>\n",
       "      <td>(not set)</td>\n",
       "      <td>desktop</td>\n",
       "      <td>Macintosh</td>\n",
       "      <td>not available in demo dataset</td>\n",
       "      <td>Organic Search</td>\n",
       "      <td>2017</td>\n",
       "      <td>4</td>\n",
       "      <td>27</td>\n",
       "      <td>18</td>\n",
       "      <td>11</td>\n",
       "      <td>False</td>\n",
       "    </tr>\n",
       "    <tr>\n",
       "      <th>2</th>\n",
       "      <td>1</td>\n",
       "      <td>2017-04-27 12:11:15</td>\n",
       "      <td>1.0</td>\n",
       "      <td>1.0</td>\n",
       "      <td>0.0</td>\n",
       "      <td>0.0</td>\n",
       "      <td>0.0</td>\n",
       "      <td>google</td>\n",
       "      <td>organic</td>\n",
       "      <td>(not set)</td>\n",
       "      <td>desktop</td>\n",
       "      <td>Windows</td>\n",
       "      <td>not available in demo dataset</td>\n",
       "      <td>Organic Search</td>\n",
       "      <td>2017</td>\n",
       "      <td>4</td>\n",
       "      <td>27</td>\n",
       "      <td>12</td>\n",
       "      <td>11</td>\n",
       "      <td>False</td>\n",
       "    </tr>\n",
       "    <tr>\n",
       "      <th>3</th>\n",
       "      <td>1</td>\n",
       "      <td>2017-04-27 13:22:04</td>\n",
       "      <td>1.0</td>\n",
       "      <td>1.0</td>\n",
       "      <td>0.0</td>\n",
       "      <td>0.0</td>\n",
       "      <td>0.0</td>\n",
       "      <td>google</td>\n",
       "      <td>organic</td>\n",
       "      <td>(not set)</td>\n",
       "      <td>desktop</td>\n",
       "      <td>Windows</td>\n",
       "      <td>not available in demo dataset</td>\n",
       "      <td>Organic Search</td>\n",
       "      <td>2017</td>\n",
       "      <td>4</td>\n",
       "      <td>27</td>\n",
       "      <td>13</td>\n",
       "      <td>22</td>\n",
       "      <td>False</td>\n",
       "    </tr>\n",
       "    <tr>\n",
       "      <th>4</th>\n",
       "      <td>3</td>\n",
       "      <td>2017-04-27 16:11:37</td>\n",
       "      <td>1.0</td>\n",
       "      <td>1.0</td>\n",
       "      <td>0.0</td>\n",
       "      <td>0.0</td>\n",
       "      <td>0.0</td>\n",
       "      <td>google</td>\n",
       "      <td>organic</td>\n",
       "      <td>(not set)</td>\n",
       "      <td>desktop</td>\n",
       "      <td>Windows</td>\n",
       "      <td>not available in demo dataset</td>\n",
       "      <td>Organic Search</td>\n",
       "      <td>2017</td>\n",
       "      <td>4</td>\n",
       "      <td>27</td>\n",
       "      <td>16</td>\n",
       "      <td>11</td>\n",
       "      <td>False</td>\n",
       "    </tr>\n",
       "  </tbody>\n",
       "</table>\n",
       "</div>"
      ],
      "text/plain": [
       "   VisitNumber      VisitStartTime  bounces  pageviews  timeOnSite  \\\n",
       "0            1 2017-04-27 22:13:49      1.0        1.0         0.0   \n",
       "1            1 2017-04-27 18:11:07      1.0        1.0         0.0   \n",
       "2            1 2017-04-27 12:11:15      1.0        1.0         0.0   \n",
       "3            1 2017-04-27 13:22:04      1.0        1.0         0.0   \n",
       "4            3 2017-04-27 16:11:37      1.0        1.0         0.0   \n",
       "\n",
       "   totalTransactionRevenue  transactions  source   medium   campaign  \\\n",
       "0                      0.0           0.0  google  organic  (not set)   \n",
       "1                      0.0           0.0  google  organic  (not set)   \n",
       "2                      0.0           0.0  google  organic  (not set)   \n",
       "3                      0.0           0.0  google  organic  (not set)   \n",
       "4                      0.0           0.0  google  organic  (not set)   \n",
       "\n",
       "  deviceCategory operatingSystem                           city  \\\n",
       "0        desktop       Macintosh                  Mountain View   \n",
       "1        desktop       Macintosh  not available in demo dataset   \n",
       "2        desktop         Windows  not available in demo dataset   \n",
       "3        desktop         Windows  not available in demo dataset   \n",
       "4        desktop         Windows  not available in demo dataset   \n",
       "\n",
       "  ChannelGrouping  year  month  day  hour  minute   diff  \n",
       "0  Organic Search  2017      4   27    22      13  False  \n",
       "1  Organic Search  2017      4   27    18      11  False  \n",
       "2  Organic Search  2017      4   27    12      11  False  \n",
       "3  Organic Search  2017      4   27    13      22  False  \n",
       "4  Organic Search  2017      4   27    16      11  False  "
      ]
     },
     "execution_count": 26,
     "metadata": {},
     "output_type": "execute_result"
    }
   ],
   "source": [
    "df.head()"
   ]
  },
  {
   "cell_type": "code",
   "execution_count": 27,
   "metadata": {},
   "outputs": [
    {
     "data": {
      "text/plain": [
       "(direct)                187241\n",
       "google                  179591\n",
       "youtube.com              50205\n",
       "analytics.google.com     10859\n",
       "Partners                  9715\n",
       "                         ...  \n",
       "web.whatsapp.com             1\n",
       "spaces.google.com            1\n",
       "s7-eu4.ixquick.com           1\n",
       "msn                          1\n",
       "so.com                       1\n",
       "Name: source, Length: 223, dtype: int64"
      ]
     },
     "execution_count": 27,
     "metadata": {},
     "output_type": "execute_result"
    }
   ],
   "source": [
    "# Let's check the types in source,which can be search engine,the hostname or value of source URl parameters so let's check\n",
    "df['source'].value_counts()"
   ]
  },
  {
   "cell_type": "code",
   "execution_count": 28,
   "metadata": {},
   "outputs": [
    {
     "data": {
      "text/plain": [
       "(none)       187239\n",
       "organic      173206\n",
       "referral      81701\n",
       "affiliate      9708\n",
       "cpc            9262\n",
       "cpm            3211\n",
       "(not set)       112\n",
       "Name: medium, dtype: int64"
      ]
     },
     "execution_count": 28,
     "metadata": {},
     "output_type": "execute_result"
    }
   ],
   "source": [
    "# Similarly The medium of the traffic source could be \"organic\",  \"referral\", or the value of \n",
    "# the utm_medium URL parameter\n",
    "df['medium'].value_counts()"
   ]
  },
  {
   "cell_type": "code",
   "execution_count": 29,
   "metadata": {},
   "outputs": [
    {
     "data": {
      "text/plain": [
       "(not set)                             446332\n",
       "Data Share Promo                        9708\n",
       "AW - Accessories                        5318\n",
       "AW - Dynamic Search Ads Whole Site      3045\n",
       "AW - Apparel                              32\n",
       "AW - Electronics                           3\n",
       "Data Share                                 1\n",
       "Name: campaign, dtype: int64"
      ]
     },
     "execution_count": 29,
     "metadata": {},
     "output_type": "execute_result"
    }
   ],
   "source": [
    "# campaign is the campaign value, Usually set by the campaign URL parameter\n",
    "df['campaign'].value_counts()"
   ]
  },
  {
   "cell_type": "code",
   "execution_count": 30,
   "metadata": {},
   "outputs": [
    {
     "data": {
      "text/plain": [
       "desktop    312851\n",
       "mobile     133180\n",
       "tablet      18408\n",
       "Name: deviceCategory, dtype: int64"
      ]
     },
     "execution_count": 30,
     "metadata": {},
     "output_type": "execute_result"
    }
   ],
   "source": [
    "# deviceCategory: The type of device (Mobile, Tablet, Desktop).\n",
    "df['deviceCategory'].value_counts()"
   ]
  },
  {
   "cell_type": "code",
   "execution_count": 31,
   "metadata": {},
   "outputs": [
    {
     "data": {
      "text/plain": [
       "Windows          171189\n",
       "Macintosh        107280\n",
       "Android           78213\n",
       "iOS               69077\n",
       "Linux             19343\n",
       "Chrome OS         15474\n",
       "(not set)          2797\n",
       "Windows Phone       623\n",
       "Samsung             186\n",
       "BlackBerry          112\n",
       "Nintendo WiiU        35\n",
       "Xbox                 34\n",
       "Nintendo Wii         33\n",
       "Firefox OS           32\n",
       "FreeBSD               7\n",
       "OpenBSD               2\n",
       "Nintendo 3DS          1\n",
       "NTT DoCoMo            1\n",
       "Name: operatingSystem, dtype: int64"
      ]
     },
     "execution_count": 31,
     "metadata": {},
     "output_type": "execute_result"
    }
   ],
   "source": [
    "# OperatingSystem: The operating system of the device (\"Ios\", \"Windows\", \"Linux\" etc).\n",
    "df['operatingSystem'].value_counts()"
   ]
  },
  {
   "cell_type": "code",
   "execution_count": 32,
   "metadata": {},
   "outputs": [
    {
     "data": {
      "text/plain": [
       "not available in demo dataset    268179\n",
       "Mountain View                     21560\n",
       "(not set)                         16313\n",
       "New York                          14582\n",
       "San Francisco                     11455\n",
       "                                  ...  \n",
       "San Salvador                          5\n",
       "Saratoga                              3\n",
       "Bozeman                               3\n",
       "Pryor                                 3\n",
       "Boise                                 3\n",
       "Name: city, Length: 436, dtype: int64"
      ]
     },
     "execution_count": 32,
     "metadata": {},
     "output_type": "execute_result"
    }
   ],
   "source": [
    "# Column city:  is the geonetwork Users' city, derived from their IP addresses or Geographical IDs\n",
    "df['city'].value_counts()"
   ]
  },
  {
   "cell_type": "markdown",
   "metadata": {},
   "source": [
    " As we can see there are so many  missing values in 'not available' in demo dataset and 'not set' so we should replace them"
   ]
  },
  {
   "cell_type": "code",
   "execution_count": 33,
   "metadata": {},
   "outputs": [],
   "source": [
    "df['city'].replace('not available in demo dataset', 'Unknown',inplace=True)\n",
    "df['city'].replace('(not set)', 'Unknown',inplace=True)"
   ]
  },
  {
   "cell_type": "code",
   "execution_count": 34,
   "metadata": {},
   "outputs": [
    {
     "data": {
      "text/html": [
       "<div>\n",
       "<style scoped>\n",
       "    .dataframe tbody tr th:only-of-type {\n",
       "        vertical-align: middle;\n",
       "    }\n",
       "\n",
       "    .dataframe tbody tr th {\n",
       "        vertical-align: top;\n",
       "    }\n",
       "\n",
       "    .dataframe thead th {\n",
       "        text-align: right;\n",
       "    }\n",
       "</style>\n",
       "<table border=\"1\" class=\"dataframe\">\n",
       "  <thead>\n",
       "    <tr style=\"text-align: right;\">\n",
       "      <th></th>\n",
       "      <th>VisitNumber</th>\n",
       "      <th>VisitStartTime</th>\n",
       "      <th>bounces</th>\n",
       "      <th>pageviews</th>\n",
       "      <th>timeOnSite</th>\n",
       "      <th>totalTransactionRevenue</th>\n",
       "      <th>transactions</th>\n",
       "      <th>source</th>\n",
       "      <th>medium</th>\n",
       "      <th>campaign</th>\n",
       "      <th>deviceCategory</th>\n",
       "      <th>operatingSystem</th>\n",
       "      <th>city</th>\n",
       "      <th>ChannelGrouping</th>\n",
       "      <th>year</th>\n",
       "      <th>month</th>\n",
       "      <th>day</th>\n",
       "      <th>hour</th>\n",
       "      <th>minute</th>\n",
       "      <th>diff</th>\n",
       "    </tr>\n",
       "  </thead>\n",
       "  <tbody>\n",
       "    <tr>\n",
       "      <th>0</th>\n",
       "      <td>1</td>\n",
       "      <td>2017-04-27 22:13:49</td>\n",
       "      <td>1.0</td>\n",
       "      <td>1.0</td>\n",
       "      <td>0.0</td>\n",
       "      <td>0.0</td>\n",
       "      <td>0.0</td>\n",
       "      <td>google</td>\n",
       "      <td>organic</td>\n",
       "      <td>(not set)</td>\n",
       "      <td>desktop</td>\n",
       "      <td>Macintosh</td>\n",
       "      <td>Mountain View</td>\n",
       "      <td>Organic Search</td>\n",
       "      <td>2017</td>\n",
       "      <td>4</td>\n",
       "      <td>27</td>\n",
       "      <td>22</td>\n",
       "      <td>13</td>\n",
       "      <td>False</td>\n",
       "    </tr>\n",
       "    <tr>\n",
       "      <th>1</th>\n",
       "      <td>1</td>\n",
       "      <td>2017-04-27 18:11:07</td>\n",
       "      <td>1.0</td>\n",
       "      <td>1.0</td>\n",
       "      <td>0.0</td>\n",
       "      <td>0.0</td>\n",
       "      <td>0.0</td>\n",
       "      <td>google</td>\n",
       "      <td>organic</td>\n",
       "      <td>(not set)</td>\n",
       "      <td>desktop</td>\n",
       "      <td>Macintosh</td>\n",
       "      <td>Unknown</td>\n",
       "      <td>Organic Search</td>\n",
       "      <td>2017</td>\n",
       "      <td>4</td>\n",
       "      <td>27</td>\n",
       "      <td>18</td>\n",
       "      <td>11</td>\n",
       "      <td>False</td>\n",
       "    </tr>\n",
       "    <tr>\n",
       "      <th>2</th>\n",
       "      <td>1</td>\n",
       "      <td>2017-04-27 12:11:15</td>\n",
       "      <td>1.0</td>\n",
       "      <td>1.0</td>\n",
       "      <td>0.0</td>\n",
       "      <td>0.0</td>\n",
       "      <td>0.0</td>\n",
       "      <td>google</td>\n",
       "      <td>organic</td>\n",
       "      <td>(not set)</td>\n",
       "      <td>desktop</td>\n",
       "      <td>Windows</td>\n",
       "      <td>Unknown</td>\n",
       "      <td>Organic Search</td>\n",
       "      <td>2017</td>\n",
       "      <td>4</td>\n",
       "      <td>27</td>\n",
       "      <td>12</td>\n",
       "      <td>11</td>\n",
       "      <td>False</td>\n",
       "    </tr>\n",
       "    <tr>\n",
       "      <th>3</th>\n",
       "      <td>1</td>\n",
       "      <td>2017-04-27 13:22:04</td>\n",
       "      <td>1.0</td>\n",
       "      <td>1.0</td>\n",
       "      <td>0.0</td>\n",
       "      <td>0.0</td>\n",
       "      <td>0.0</td>\n",
       "      <td>google</td>\n",
       "      <td>organic</td>\n",
       "      <td>(not set)</td>\n",
       "      <td>desktop</td>\n",
       "      <td>Windows</td>\n",
       "      <td>Unknown</td>\n",
       "      <td>Organic Search</td>\n",
       "      <td>2017</td>\n",
       "      <td>4</td>\n",
       "      <td>27</td>\n",
       "      <td>13</td>\n",
       "      <td>22</td>\n",
       "      <td>False</td>\n",
       "    </tr>\n",
       "    <tr>\n",
       "      <th>4</th>\n",
       "      <td>3</td>\n",
       "      <td>2017-04-27 16:11:37</td>\n",
       "      <td>1.0</td>\n",
       "      <td>1.0</td>\n",
       "      <td>0.0</td>\n",
       "      <td>0.0</td>\n",
       "      <td>0.0</td>\n",
       "      <td>google</td>\n",
       "      <td>organic</td>\n",
       "      <td>(not set)</td>\n",
       "      <td>desktop</td>\n",
       "      <td>Windows</td>\n",
       "      <td>Unknown</td>\n",
       "      <td>Organic Search</td>\n",
       "      <td>2017</td>\n",
       "      <td>4</td>\n",
       "      <td>27</td>\n",
       "      <td>16</td>\n",
       "      <td>11</td>\n",
       "      <td>False</td>\n",
       "    </tr>\n",
       "    <tr>\n",
       "      <th>5</th>\n",
       "      <td>1</td>\n",
       "      <td>2017-04-28 01:36:22</td>\n",
       "      <td>1.0</td>\n",
       "      <td>1.0</td>\n",
       "      <td>0.0</td>\n",
       "      <td>0.0</td>\n",
       "      <td>0.0</td>\n",
       "      <td>google</td>\n",
       "      <td>organic</td>\n",
       "      <td>(not set)</td>\n",
       "      <td>desktop</td>\n",
       "      <td>Windows</td>\n",
       "      <td>Melbourne</td>\n",
       "      <td>Organic Search</td>\n",
       "      <td>2017</td>\n",
       "      <td>4</td>\n",
       "      <td>28</td>\n",
       "      <td>1</td>\n",
       "      <td>36</td>\n",
       "      <td>False</td>\n",
       "    </tr>\n",
       "    <tr>\n",
       "      <th>6</th>\n",
       "      <td>1</td>\n",
       "      <td>2017-04-27 16:37:45</td>\n",
       "      <td>1.0</td>\n",
       "      <td>1.0</td>\n",
       "      <td>0.0</td>\n",
       "      <td>0.0</td>\n",
       "      <td>0.0</td>\n",
       "      <td>google</td>\n",
       "      <td>organic</td>\n",
       "      <td>(not set)</td>\n",
       "      <td>desktop</td>\n",
       "      <td>Windows</td>\n",
       "      <td>Unknown</td>\n",
       "      <td>Organic Search</td>\n",
       "      <td>2017</td>\n",
       "      <td>4</td>\n",
       "      <td>27</td>\n",
       "      <td>16</td>\n",
       "      <td>37</td>\n",
       "      <td>False</td>\n",
       "    </tr>\n",
       "    <tr>\n",
       "      <th>7</th>\n",
       "      <td>1</td>\n",
       "      <td>2017-04-27 20:59:49</td>\n",
       "      <td>1.0</td>\n",
       "      <td>1.0</td>\n",
       "      <td>0.0</td>\n",
       "      <td>0.0</td>\n",
       "      <td>0.0</td>\n",
       "      <td>google</td>\n",
       "      <td>organic</td>\n",
       "      <td>(not set)</td>\n",
       "      <td>desktop</td>\n",
       "      <td>Macintosh</td>\n",
       "      <td>San Francisco</td>\n",
       "      <td>Organic Search</td>\n",
       "      <td>2017</td>\n",
       "      <td>4</td>\n",
       "      <td>27</td>\n",
       "      <td>20</td>\n",
       "      <td>59</td>\n",
       "      <td>False</td>\n",
       "    </tr>\n",
       "    <tr>\n",
       "      <th>8</th>\n",
       "      <td>3</td>\n",
       "      <td>2017-04-28 06:56:54</td>\n",
       "      <td>1.0</td>\n",
       "      <td>1.0</td>\n",
       "      <td>0.0</td>\n",
       "      <td>0.0</td>\n",
       "      <td>0.0</td>\n",
       "      <td>google</td>\n",
       "      <td>organic</td>\n",
       "      <td>(not set)</td>\n",
       "      <td>desktop</td>\n",
       "      <td>Windows</td>\n",
       "      <td>Dallas</td>\n",
       "      <td>Organic Search</td>\n",
       "      <td>2017</td>\n",
       "      <td>4</td>\n",
       "      <td>28</td>\n",
       "      <td>6</td>\n",
       "      <td>56</td>\n",
       "      <td>False</td>\n",
       "    </tr>\n",
       "    <tr>\n",
       "      <th>9</th>\n",
       "      <td>1</td>\n",
       "      <td>2017-04-27 09:20:41</td>\n",
       "      <td>1.0</td>\n",
       "      <td>1.0</td>\n",
       "      <td>0.0</td>\n",
       "      <td>0.0</td>\n",
       "      <td>0.0</td>\n",
       "      <td>google</td>\n",
       "      <td>organic</td>\n",
       "      <td>(not set)</td>\n",
       "      <td>desktop</td>\n",
       "      <td>Chrome OS</td>\n",
       "      <td>Paris</td>\n",
       "      <td>Organic Search</td>\n",
       "      <td>2017</td>\n",
       "      <td>4</td>\n",
       "      <td>27</td>\n",
       "      <td>9</td>\n",
       "      <td>20</td>\n",
       "      <td>False</td>\n",
       "    </tr>\n",
       "  </tbody>\n",
       "</table>\n",
       "</div>"
      ],
      "text/plain": [
       "   VisitNumber      VisitStartTime  bounces  pageviews  timeOnSite  \\\n",
       "0            1 2017-04-27 22:13:49      1.0        1.0         0.0   \n",
       "1            1 2017-04-27 18:11:07      1.0        1.0         0.0   \n",
       "2            1 2017-04-27 12:11:15      1.0        1.0         0.0   \n",
       "3            1 2017-04-27 13:22:04      1.0        1.0         0.0   \n",
       "4            3 2017-04-27 16:11:37      1.0        1.0         0.0   \n",
       "5            1 2017-04-28 01:36:22      1.0        1.0         0.0   \n",
       "6            1 2017-04-27 16:37:45      1.0        1.0         0.0   \n",
       "7            1 2017-04-27 20:59:49      1.0        1.0         0.0   \n",
       "8            3 2017-04-28 06:56:54      1.0        1.0         0.0   \n",
       "9            1 2017-04-27 09:20:41      1.0        1.0         0.0   \n",
       "\n",
       "   totalTransactionRevenue  transactions  source   medium   campaign  \\\n",
       "0                      0.0           0.0  google  organic  (not set)   \n",
       "1                      0.0           0.0  google  organic  (not set)   \n",
       "2                      0.0           0.0  google  organic  (not set)   \n",
       "3                      0.0           0.0  google  organic  (not set)   \n",
       "4                      0.0           0.0  google  organic  (not set)   \n",
       "5                      0.0           0.0  google  organic  (not set)   \n",
       "6                      0.0           0.0  google  organic  (not set)   \n",
       "7                      0.0           0.0  google  organic  (not set)   \n",
       "8                      0.0           0.0  google  organic  (not set)   \n",
       "9                      0.0           0.0  google  organic  (not set)   \n",
       "\n",
       "  deviceCategory operatingSystem           city ChannelGrouping  year  month  \\\n",
       "0        desktop       Macintosh  Mountain View  Organic Search  2017      4   \n",
       "1        desktop       Macintosh        Unknown  Organic Search  2017      4   \n",
       "2        desktop         Windows        Unknown  Organic Search  2017      4   \n",
       "3        desktop         Windows        Unknown  Organic Search  2017      4   \n",
       "4        desktop         Windows        Unknown  Organic Search  2017      4   \n",
       "5        desktop         Windows      Melbourne  Organic Search  2017      4   \n",
       "6        desktop         Windows        Unknown  Organic Search  2017      4   \n",
       "7        desktop       Macintosh  San Francisco  Organic Search  2017      4   \n",
       "8        desktop         Windows         Dallas  Organic Search  2017      4   \n",
       "9        desktop       Chrome OS          Paris  Organic Search  2017      4   \n",
       "\n",
       "   day  hour  minute   diff  \n",
       "0   27    22      13  False  \n",
       "1   27    18      11  False  \n",
       "2   27    12      11  False  \n",
       "3   27    13      22  False  \n",
       "4   27    16      11  False  \n",
       "5   28     1      36  False  \n",
       "6   27    16      37  False  \n",
       "7   27    20      59  False  \n",
       "8   28     6      56  False  \n",
       "9   27     9      20  False  "
      ]
     },
     "execution_count": 34,
     "metadata": {},
     "output_type": "execute_result"
    }
   ],
   "source": [
    "df.head(10)"
   ]
  },
  {
   "cell_type": "code",
   "execution_count": 35,
   "metadata": {},
   "outputs": [
    {
     "data": {
      "text/plain": [
       "Organic Search    232876\n",
       "Direct             85993\n",
       "Social             59915\n",
       "Referral           58390\n",
       "Paid Search        14177\n",
       "Affiliates          9708\n",
       "Display             3265\n",
       "(Other)              114\n",
       "Organic S              1\n",
       "Name: ChannelGrouping, dtype: int64"
      ]
     },
     "execution_count": 35,
     "metadata": {},
     "output_type": "execute_result"
    }
   ],
   "source": [
    "#Col ChannelGrouping is the Default Channel Group associated with an end user's session for this View\n",
    "df['ChannelGrouping'].value_counts()"
   ]
  },
  {
   "cell_type": "markdown",
   "metadata": {},
   "source": [
    "As we have to Predict the new user will do transact or not ,therefore we have to make a new target variable column-'transact', \n",
    " which will mean the value 1 for a transaction and 0 for no transaction so"
   ]
  },
  {
   "cell_type": "code",
   "execution_count": 36,
   "metadata": {},
   "outputs": [],
   "source": [
    "df['transact'] = np.where(df['transactions']  == 0, '0','1')\n",
    "df['transact'] = df['transact'].astype('str')"
   ]
  },
  {
   "cell_type": "code",
   "execution_count": 37,
   "metadata": {},
   "outputs": [],
   "source": [
    "#totalTransactionRevenue is expressed as the value passed to Analytics multiplied by 10^6\n",
    "# Therefore , the TransactionRevenue is obtained as totalTransactionRevenue/ 1000000\n",
    "\n",
    "df['TransactionRevenue'] = df['totalTransactionRevenue'] / 1000000"
   ]
  },
  {
   "cell_type": "code",
   "execution_count": 38,
   "metadata": {},
   "outputs": [
    {
     "data": {
      "text/html": [
       "<div>\n",
       "<style scoped>\n",
       "    .dataframe tbody tr th:only-of-type {\n",
       "        vertical-align: middle;\n",
       "    }\n",
       "\n",
       "    .dataframe tbody tr th {\n",
       "        vertical-align: top;\n",
       "    }\n",
       "\n",
       "    .dataframe thead th {\n",
       "        text-align: right;\n",
       "    }\n",
       "</style>\n",
       "<table border=\"1\" class=\"dataframe\">\n",
       "  <thead>\n",
       "    <tr style=\"text-align: right;\">\n",
       "      <th></th>\n",
       "      <th>VisitNumber</th>\n",
       "      <th>VisitStartTime</th>\n",
       "      <th>bounces</th>\n",
       "      <th>pageviews</th>\n",
       "      <th>timeOnSite</th>\n",
       "      <th>totalTransactionRevenue</th>\n",
       "      <th>transactions</th>\n",
       "      <th>source</th>\n",
       "      <th>medium</th>\n",
       "      <th>campaign</th>\n",
       "      <th>...</th>\n",
       "      <th>city</th>\n",
       "      <th>ChannelGrouping</th>\n",
       "      <th>year</th>\n",
       "      <th>month</th>\n",
       "      <th>day</th>\n",
       "      <th>hour</th>\n",
       "      <th>minute</th>\n",
       "      <th>diff</th>\n",
       "      <th>transact</th>\n",
       "      <th>TransactionRevenue</th>\n",
       "    </tr>\n",
       "  </thead>\n",
       "  <tbody>\n",
       "    <tr>\n",
       "      <th>0</th>\n",
       "      <td>1</td>\n",
       "      <td>2017-04-27 22:13:49</td>\n",
       "      <td>1.0</td>\n",
       "      <td>1.0</td>\n",
       "      <td>0.0</td>\n",
       "      <td>0.0</td>\n",
       "      <td>0.0</td>\n",
       "      <td>google</td>\n",
       "      <td>organic</td>\n",
       "      <td>(not set)</td>\n",
       "      <td>...</td>\n",
       "      <td>Mountain View</td>\n",
       "      <td>Organic Search</td>\n",
       "      <td>2017</td>\n",
       "      <td>4</td>\n",
       "      <td>27</td>\n",
       "      <td>22</td>\n",
       "      <td>13</td>\n",
       "      <td>False</td>\n",
       "      <td>0</td>\n",
       "      <td>0.0</td>\n",
       "    </tr>\n",
       "    <tr>\n",
       "      <th>1</th>\n",
       "      <td>1</td>\n",
       "      <td>2017-04-27 18:11:07</td>\n",
       "      <td>1.0</td>\n",
       "      <td>1.0</td>\n",
       "      <td>0.0</td>\n",
       "      <td>0.0</td>\n",
       "      <td>0.0</td>\n",
       "      <td>google</td>\n",
       "      <td>organic</td>\n",
       "      <td>(not set)</td>\n",
       "      <td>...</td>\n",
       "      <td>Unknown</td>\n",
       "      <td>Organic Search</td>\n",
       "      <td>2017</td>\n",
       "      <td>4</td>\n",
       "      <td>27</td>\n",
       "      <td>18</td>\n",
       "      <td>11</td>\n",
       "      <td>False</td>\n",
       "      <td>0</td>\n",
       "      <td>0.0</td>\n",
       "    </tr>\n",
       "    <tr>\n",
       "      <th>2</th>\n",
       "      <td>1</td>\n",
       "      <td>2017-04-27 12:11:15</td>\n",
       "      <td>1.0</td>\n",
       "      <td>1.0</td>\n",
       "      <td>0.0</td>\n",
       "      <td>0.0</td>\n",
       "      <td>0.0</td>\n",
       "      <td>google</td>\n",
       "      <td>organic</td>\n",
       "      <td>(not set)</td>\n",
       "      <td>...</td>\n",
       "      <td>Unknown</td>\n",
       "      <td>Organic Search</td>\n",
       "      <td>2017</td>\n",
       "      <td>4</td>\n",
       "      <td>27</td>\n",
       "      <td>12</td>\n",
       "      <td>11</td>\n",
       "      <td>False</td>\n",
       "      <td>0</td>\n",
       "      <td>0.0</td>\n",
       "    </tr>\n",
       "    <tr>\n",
       "      <th>3</th>\n",
       "      <td>1</td>\n",
       "      <td>2017-04-27 13:22:04</td>\n",
       "      <td>1.0</td>\n",
       "      <td>1.0</td>\n",
       "      <td>0.0</td>\n",
       "      <td>0.0</td>\n",
       "      <td>0.0</td>\n",
       "      <td>google</td>\n",
       "      <td>organic</td>\n",
       "      <td>(not set)</td>\n",
       "      <td>...</td>\n",
       "      <td>Unknown</td>\n",
       "      <td>Organic Search</td>\n",
       "      <td>2017</td>\n",
       "      <td>4</td>\n",
       "      <td>27</td>\n",
       "      <td>13</td>\n",
       "      <td>22</td>\n",
       "      <td>False</td>\n",
       "      <td>0</td>\n",
       "      <td>0.0</td>\n",
       "    </tr>\n",
       "    <tr>\n",
       "      <th>4</th>\n",
       "      <td>3</td>\n",
       "      <td>2017-04-27 16:11:37</td>\n",
       "      <td>1.0</td>\n",
       "      <td>1.0</td>\n",
       "      <td>0.0</td>\n",
       "      <td>0.0</td>\n",
       "      <td>0.0</td>\n",
       "      <td>google</td>\n",
       "      <td>organic</td>\n",
       "      <td>(not set)</td>\n",
       "      <td>...</td>\n",
       "      <td>Unknown</td>\n",
       "      <td>Organic Search</td>\n",
       "      <td>2017</td>\n",
       "      <td>4</td>\n",
       "      <td>27</td>\n",
       "      <td>16</td>\n",
       "      <td>11</td>\n",
       "      <td>False</td>\n",
       "      <td>0</td>\n",
       "      <td>0.0</td>\n",
       "    </tr>\n",
       "  </tbody>\n",
       "</table>\n",
       "<p>5 rows × 22 columns</p>\n",
       "</div>"
      ],
      "text/plain": [
       "   VisitNumber      VisitStartTime  bounces  pageviews  timeOnSite  \\\n",
       "0            1 2017-04-27 22:13:49      1.0        1.0         0.0   \n",
       "1            1 2017-04-27 18:11:07      1.0        1.0         0.0   \n",
       "2            1 2017-04-27 12:11:15      1.0        1.0         0.0   \n",
       "3            1 2017-04-27 13:22:04      1.0        1.0         0.0   \n",
       "4            3 2017-04-27 16:11:37      1.0        1.0         0.0   \n",
       "\n",
       "   totalTransactionRevenue  transactions  source   medium   campaign  ...  \\\n",
       "0                      0.0           0.0  google  organic  (not set)  ...   \n",
       "1                      0.0           0.0  google  organic  (not set)  ...   \n",
       "2                      0.0           0.0  google  organic  (not set)  ...   \n",
       "3                      0.0           0.0  google  organic  (not set)  ...   \n",
       "4                      0.0           0.0  google  organic  (not set)  ...   \n",
       "\n",
       "            city ChannelGrouping  year month  day  hour  minute   diff  \\\n",
       "0  Mountain View  Organic Search  2017     4   27    22      13  False   \n",
       "1        Unknown  Organic Search  2017     4   27    18      11  False   \n",
       "2        Unknown  Organic Search  2017     4   27    12      11  False   \n",
       "3        Unknown  Organic Search  2017     4   27    13      22  False   \n",
       "4        Unknown  Organic Search  2017     4   27    16      11  False   \n",
       "\n",
       "   transact  TransactionRevenue  \n",
       "0         0                 0.0  \n",
       "1         0                 0.0  \n",
       "2         0                 0.0  \n",
       "3         0                 0.0  \n",
       "4         0                 0.0  \n",
       "\n",
       "[5 rows x 22 columns]"
      ]
     },
     "execution_count": 38,
     "metadata": {},
     "output_type": "execute_result"
    }
   ],
   "source": [
    "df.head()"
   ]
  },
  {
   "cell_type": "code",
   "execution_count": 39,
   "metadata": {},
   "outputs": [],
   "source": [
    "# We can further delete few columns which are no longer required\n",
    "#visitStartTime - as we have already extracted the required year/ month/ day/hour/ minute info from this column\n",
    "#totalTransactionRevenue - as we have obtained the required TransactionRevenue column from this.\n",
    "#year - the info is not required as the year is 2017 and is same for all records\n",
    "#diff - information column already used earlier for comparison and not required for transactional analysis"
   ]
  },
  {
   "cell_type": "code",
   "execution_count": 40,
   "metadata": {},
   "outputs": [],
   "source": [
    "df = df.drop(['VisitStartTime','totalTransactionRevenue','year','diff'],axis=1)"
   ]
  },
  {
   "cell_type": "code",
   "execution_count": 41,
   "metadata": {},
   "outputs": [
    {
     "data": {
      "text/html": [
       "<div>\n",
       "<style scoped>\n",
       "    .dataframe tbody tr th:only-of-type {\n",
       "        vertical-align: middle;\n",
       "    }\n",
       "\n",
       "    .dataframe tbody tr th {\n",
       "        vertical-align: top;\n",
       "    }\n",
       "\n",
       "    .dataframe thead th {\n",
       "        text-align: right;\n",
       "    }\n",
       "</style>\n",
       "<table border=\"1\" class=\"dataframe\">\n",
       "  <thead>\n",
       "    <tr style=\"text-align: right;\">\n",
       "      <th></th>\n",
       "      <th>VisitNumber</th>\n",
       "      <th>bounces</th>\n",
       "      <th>pageviews</th>\n",
       "      <th>timeOnSite</th>\n",
       "      <th>transactions</th>\n",
       "      <th>month</th>\n",
       "      <th>day</th>\n",
       "      <th>hour</th>\n",
       "      <th>minute</th>\n",
       "      <th>TransactionRevenue</th>\n",
       "    </tr>\n",
       "  </thead>\n",
       "  <tbody>\n",
       "    <tr>\n",
       "      <th>count</th>\n",
       "      <td>464439.000000</td>\n",
       "      <td>464439.000000</td>\n",
       "      <td>464439.000000</td>\n",
       "      <td>464439.000000</td>\n",
       "      <td>464439.000000</td>\n",
       "      <td>464439.000000</td>\n",
       "      <td>464439.000000</td>\n",
       "      <td>464439.000000</td>\n",
       "      <td>464439.000000</td>\n",
       "      <td>464439.000000</td>\n",
       "    </tr>\n",
       "    <tr>\n",
       "      <th>mean</th>\n",
       "      <td>2.334040</td>\n",
       "      <td>0.499911</td>\n",
       "      <td>3.771589</td>\n",
       "      <td>139.594659</td>\n",
       "      <td>0.014213</td>\n",
       "      <td>4.051736</td>\n",
       "      <td>15.756078</td>\n",
       "      <td>12.663982</td>\n",
       "      <td>29.541287</td>\n",
       "      <td>2.196278</td>\n",
       "    </tr>\n",
       "    <tr>\n",
       "      <th>std</th>\n",
       "      <td>9.879354</td>\n",
       "      <td>0.500001</td>\n",
       "      <td>6.403345</td>\n",
       "      <td>374.763296</td>\n",
       "      <td>0.136039</td>\n",
       "      <td>2.006265</td>\n",
       "      <td>8.798566</td>\n",
       "      <td>6.852292</td>\n",
       "      <td>17.282520</td>\n",
       "      <td>106.937428</td>\n",
       "    </tr>\n",
       "    <tr>\n",
       "      <th>min</th>\n",
       "      <td>1.000000</td>\n",
       "      <td>0.000000</td>\n",
       "      <td>0.000000</td>\n",
       "      <td>0.000000</td>\n",
       "      <td>0.000000</td>\n",
       "      <td>1.000000</td>\n",
       "      <td>1.000000</td>\n",
       "      <td>0.000000</td>\n",
       "      <td>0.000000</td>\n",
       "      <td>0.000000</td>\n",
       "    </tr>\n",
       "    <tr>\n",
       "      <th>25%</th>\n",
       "      <td>1.000000</td>\n",
       "      <td>0.000000</td>\n",
       "      <td>1.000000</td>\n",
       "      <td>0.000000</td>\n",
       "      <td>0.000000</td>\n",
       "      <td>2.000000</td>\n",
       "      <td>8.000000</td>\n",
       "      <td>7.000000</td>\n",
       "      <td>15.000000</td>\n",
       "      <td>0.000000</td>\n",
       "    </tr>\n",
       "    <tr>\n",
       "      <th>50%</th>\n",
       "      <td>1.000000</td>\n",
       "      <td>0.000000</td>\n",
       "      <td>1.000000</td>\n",
       "      <td>0.000000</td>\n",
       "      <td>0.000000</td>\n",
       "      <td>4.000000</td>\n",
       "      <td>16.000000</td>\n",
       "      <td>14.000000</td>\n",
       "      <td>30.000000</td>\n",
       "      <td>0.000000</td>\n",
       "    </tr>\n",
       "    <tr>\n",
       "      <th>75%</th>\n",
       "      <td>1.000000</td>\n",
       "      <td>1.000000</td>\n",
       "      <td>4.000000</td>\n",
       "      <td>94.000000</td>\n",
       "      <td>0.000000</td>\n",
       "      <td>6.000000</td>\n",
       "      <td>23.000000</td>\n",
       "      <td>18.000000</td>\n",
       "      <td>45.000000</td>\n",
       "      <td>0.000000</td>\n",
       "    </tr>\n",
       "    <tr>\n",
       "      <th>max</th>\n",
       "      <td>395.000000</td>\n",
       "      <td>1.000000</td>\n",
       "      <td>466.000000</td>\n",
       "      <td>12136.000000</td>\n",
       "      <td>25.000000</td>\n",
       "      <td>8.000000</td>\n",
       "      <td>31.000000</td>\n",
       "      <td>23.000000</td>\n",
       "      <td>59.000000</td>\n",
       "      <td>47082.060000</td>\n",
       "    </tr>\n",
       "  </tbody>\n",
       "</table>\n",
       "</div>"
      ],
      "text/plain": [
       "         VisitNumber        bounces      pageviews     timeOnSite  \\\n",
       "count  464439.000000  464439.000000  464439.000000  464439.000000   \n",
       "mean        2.334040       0.499911       3.771589     139.594659   \n",
       "std         9.879354       0.500001       6.403345     374.763296   \n",
       "min         1.000000       0.000000       0.000000       0.000000   \n",
       "25%         1.000000       0.000000       1.000000       0.000000   \n",
       "50%         1.000000       0.000000       1.000000       0.000000   \n",
       "75%         1.000000       1.000000       4.000000      94.000000   \n",
       "max       395.000000       1.000000     466.000000   12136.000000   \n",
       "\n",
       "        transactions          month            day           hour  \\\n",
       "count  464439.000000  464439.000000  464439.000000  464439.000000   \n",
       "mean        0.014213       4.051736      15.756078      12.663982   \n",
       "std         0.136039       2.006265       8.798566       6.852292   \n",
       "min         0.000000       1.000000       1.000000       0.000000   \n",
       "25%         0.000000       2.000000       8.000000       7.000000   \n",
       "50%         0.000000       4.000000      16.000000      14.000000   \n",
       "75%         0.000000       6.000000      23.000000      18.000000   \n",
       "max        25.000000       8.000000      31.000000      23.000000   \n",
       "\n",
       "              minute  TransactionRevenue  \n",
       "count  464439.000000       464439.000000  \n",
       "mean       29.541287            2.196278  \n",
       "std        17.282520          106.937428  \n",
       "min         0.000000            0.000000  \n",
       "25%        15.000000            0.000000  \n",
       "50%        30.000000            0.000000  \n",
       "75%        45.000000            0.000000  \n",
       "max        59.000000        47082.060000  "
      ]
     },
     "execution_count": 41,
     "metadata": {},
     "output_type": "execute_result"
    }
   ],
   "source": [
    "df.describe()"
   ]
  },
  {
   "cell_type": "code",
   "execution_count": 42,
   "metadata": {},
   "outputs": [
    {
     "data": {
      "image/png": "[encoded data removed]",
      "text/plain": [
       "<Figure size 1080x720 with 2 Axes>"
      ]
     },
     "metadata": {
      "needs_background": "light"
     },
     "output_type": "display_data"
    }
   ],
   "source": [
    "# To find Correlation between all the features\n",
    "fig1 = plt.figure(figsize = (15,10));\n",
    "plt.title('Correlation Matrix')\n",
    "df.corr()\n",
    "sns.heatmap(df.corr(), vmin = -1, vmax = 1, cmap = 'Blues', annot=True);"
   ]
  },
  {
   "cell_type": "code",
   "execution_count": 43,
   "metadata": {},
   "outputs": [
    {
     "data": {
      "text/html": [
       "<div>\n",
       "<style scoped>\n",
       "    .dataframe tbody tr th:only-of-type {\n",
       "        vertical-align: middle;\n",
       "    }\n",
       "\n",
       "    .dataframe tbody tr th {\n",
       "        vertical-align: top;\n",
       "    }\n",
       "\n",
       "    .dataframe thead th {\n",
       "        text-align: right;\n",
       "    }\n",
       "</style>\n",
       "<table border=\"1\" class=\"dataframe\">\n",
       "  <thead>\n",
       "    <tr style=\"text-align: right;\">\n",
       "      <th></th>\n",
       "      <th>VisitNumber</th>\n",
       "      <th>bounces</th>\n",
       "      <th>pageviews</th>\n",
       "      <th>timeOnSite</th>\n",
       "      <th>transactions</th>\n",
       "      <th>source</th>\n",
       "      <th>medium</th>\n",
       "      <th>campaign</th>\n",
       "      <th>deviceCategory</th>\n",
       "      <th>operatingSystem</th>\n",
       "      <th>city</th>\n",
       "      <th>ChannelGrouping</th>\n",
       "      <th>month</th>\n",
       "      <th>day</th>\n",
       "      <th>hour</th>\n",
       "      <th>minute</th>\n",
       "      <th>transact</th>\n",
       "      <th>TransactionRevenue</th>\n",
       "    </tr>\n",
       "  </thead>\n",
       "  <tbody>\n",
       "    <tr>\n",
       "      <th>161</th>\n",
       "      <td>1</td>\n",
       "      <td>1.0</td>\n",
       "      <td>1.0</td>\n",
       "      <td>0.0</td>\n",
       "      <td>0.0</td>\n",
       "      <td>(direct)</td>\n",
       "      <td>(none)</td>\n",
       "      <td>(not set)</td>\n",
       "      <td>desktop</td>\n",
       "      <td>(not set)</td>\n",
       "      <td>Unknown</td>\n",
       "      <td>Direct</td>\n",
       "      <td>4</td>\n",
       "      <td>27</td>\n",
       "      <td>13</td>\n",
       "      <td>44</td>\n",
       "      <td>0</td>\n",
       "      <td>0.0</td>\n",
       "    </tr>\n",
       "    <tr>\n",
       "      <th>163</th>\n",
       "      <td>1</td>\n",
       "      <td>1.0</td>\n",
       "      <td>1.0</td>\n",
       "      <td>0.0</td>\n",
       "      <td>0.0</td>\n",
       "      <td>google</td>\n",
       "      <td>organic</td>\n",
       "      <td>(not set)</td>\n",
       "      <td>desktop</td>\n",
       "      <td>Windows</td>\n",
       "      <td>Unknown</td>\n",
       "      <td>Organic Search</td>\n",
       "      <td>4</td>\n",
       "      <td>27</td>\n",
       "      <td>14</td>\n",
       "      <td>10</td>\n",
       "      <td>0</td>\n",
       "      <td>0.0</td>\n",
       "    </tr>\n",
       "    <tr>\n",
       "      <th>232</th>\n",
       "      <td>1</td>\n",
       "      <td>1.0</td>\n",
       "      <td>1.0</td>\n",
       "      <td>0.0</td>\n",
       "      <td>0.0</td>\n",
       "      <td>google</td>\n",
       "      <td>organic</td>\n",
       "      <td>(not set)</td>\n",
       "      <td>desktop</td>\n",
       "      <td>Windows</td>\n",
       "      <td>Unknown</td>\n",
       "      <td>Organic Search</td>\n",
       "      <td>4</td>\n",
       "      <td>27</td>\n",
       "      <td>15</td>\n",
       "      <td>38</td>\n",
       "      <td>0</td>\n",
       "      <td>0.0</td>\n",
       "    </tr>\n",
       "    <tr>\n",
       "      <th>264</th>\n",
       "      <td>1</td>\n",
       "      <td>1.0</td>\n",
       "      <td>1.0</td>\n",
       "      <td>0.0</td>\n",
       "      <td>0.0</td>\n",
       "      <td>google</td>\n",
       "      <td>organic</td>\n",
       "      <td>(not set)</td>\n",
       "      <td>desktop</td>\n",
       "      <td>Windows</td>\n",
       "      <td>Unknown</td>\n",
       "      <td>Organic Search</td>\n",
       "      <td>4</td>\n",
       "      <td>27</td>\n",
       "      <td>11</td>\n",
       "      <td>11</td>\n",
       "      <td>0</td>\n",
       "      <td>0.0</td>\n",
       "    </tr>\n",
       "    <tr>\n",
       "      <th>272</th>\n",
       "      <td>1</td>\n",
       "      <td>1.0</td>\n",
       "      <td>1.0</td>\n",
       "      <td>0.0</td>\n",
       "      <td>0.0</td>\n",
       "      <td>google</td>\n",
       "      <td>organic</td>\n",
       "      <td>(not set)</td>\n",
       "      <td>desktop</td>\n",
       "      <td>Windows</td>\n",
       "      <td>Unknown</td>\n",
       "      <td>Organic Search</td>\n",
       "      <td>4</td>\n",
       "      <td>27</td>\n",
       "      <td>12</td>\n",
       "      <td>25</td>\n",
       "      <td>0</td>\n",
       "      <td>0.0</td>\n",
       "    </tr>\n",
       "    <tr>\n",
       "      <th>...</th>\n",
       "      <td>...</td>\n",
       "      <td>...</td>\n",
       "      <td>...</td>\n",
       "      <td>...</td>\n",
       "      <td>...</td>\n",
       "      <td>...</td>\n",
       "      <td>...</td>\n",
       "      <td>...</td>\n",
       "      <td>...</td>\n",
       "      <td>...</td>\n",
       "      <td>...</td>\n",
       "      <td>...</td>\n",
       "      <td>...</td>\n",
       "      <td>...</td>\n",
       "      <td>...</td>\n",
       "      <td>...</td>\n",
       "      <td>...</td>\n",
       "      <td>...</td>\n",
       "    </tr>\n",
       "    <tr>\n",
       "      <th>463673</th>\n",
       "      <td>1</td>\n",
       "      <td>1.0</td>\n",
       "      <td>1.0</td>\n",
       "      <td>0.0</td>\n",
       "      <td>0.0</td>\n",
       "      <td>(direct)</td>\n",
       "      <td>(none)</td>\n",
       "      <td>(not set)</td>\n",
       "      <td>mobile</td>\n",
       "      <td>Android</td>\n",
       "      <td>Unknown</td>\n",
       "      <td>Direct</td>\n",
       "      <td>2</td>\n",
       "      <td>23</td>\n",
       "      <td>13</td>\n",
       "      <td>14</td>\n",
       "      <td>0</td>\n",
       "      <td>0.0</td>\n",
       "    </tr>\n",
       "    <tr>\n",
       "      <th>463675</th>\n",
       "      <td>1</td>\n",
       "      <td>1.0</td>\n",
       "      <td>1.0</td>\n",
       "      <td>0.0</td>\n",
       "      <td>0.0</td>\n",
       "      <td>youtube.com</td>\n",
       "      <td>referral</td>\n",
       "      <td>(not set)</td>\n",
       "      <td>desktop</td>\n",
       "      <td>Windows</td>\n",
       "      <td>Unknown</td>\n",
       "      <td>Social</td>\n",
       "      <td>2</td>\n",
       "      <td>23</td>\n",
       "      <td>22</td>\n",
       "      <td>25</td>\n",
       "      <td>0</td>\n",
       "      <td>0.0</td>\n",
       "    </tr>\n",
       "    <tr>\n",
       "      <th>463841</th>\n",
       "      <td>1</td>\n",
       "      <td>1.0</td>\n",
       "      <td>1.0</td>\n",
       "      <td>0.0</td>\n",
       "      <td>0.0</td>\n",
       "      <td>(direct)</td>\n",
       "      <td>(none)</td>\n",
       "      <td>(not set)</td>\n",
       "      <td>mobile</td>\n",
       "      <td>iOS</td>\n",
       "      <td>Unknown</td>\n",
       "      <td>Direct</td>\n",
       "      <td>2</td>\n",
       "      <td>23</td>\n",
       "      <td>17</td>\n",
       "      <td>52</td>\n",
       "      <td>0</td>\n",
       "      <td>0.0</td>\n",
       "    </tr>\n",
       "    <tr>\n",
       "      <th>463876</th>\n",
       "      <td>1</td>\n",
       "      <td>1.0</td>\n",
       "      <td>1.0</td>\n",
       "      <td>0.0</td>\n",
       "      <td>0.0</td>\n",
       "      <td>(direct)</td>\n",
       "      <td>(none)</td>\n",
       "      <td>(not set)</td>\n",
       "      <td>desktop</td>\n",
       "      <td>Windows</td>\n",
       "      <td>Bengaluru</td>\n",
       "      <td>Direct</td>\n",
       "      <td>2</td>\n",
       "      <td>24</td>\n",
       "      <td>7</td>\n",
       "      <td>10</td>\n",
       "      <td>0</td>\n",
       "      <td>0.0</td>\n",
       "    </tr>\n",
       "    <tr>\n",
       "      <th>463999</th>\n",
       "      <td>1</td>\n",
       "      <td>1.0</td>\n",
       "      <td>1.0</td>\n",
       "      <td>0.0</td>\n",
       "      <td>0.0</td>\n",
       "      <td>(direct)</td>\n",
       "      <td>(none)</td>\n",
       "      <td>(not set)</td>\n",
       "      <td>desktop</td>\n",
       "      <td>Linux</td>\n",
       "      <td>Unknown</td>\n",
       "      <td>Direct</td>\n",
       "      <td>2</td>\n",
       "      <td>23</td>\n",
       "      <td>12</td>\n",
       "      <td>8</td>\n",
       "      <td>0</td>\n",
       "      <td>0.0</td>\n",
       "    </tr>\n",
       "  </tbody>\n",
       "</table>\n",
       "<p>6574 rows × 18 columns</p>\n",
       "</div>"
      ],
      "text/plain": [
       "        VisitNumber  bounces  pageviews  timeOnSite  transactions  \\\n",
       "161               1      1.0        1.0         0.0           0.0   \n",
       "163               1      1.0        1.0         0.0           0.0   \n",
       "232               1      1.0        1.0         0.0           0.0   \n",
       "264               1      1.0        1.0         0.0           0.0   \n",
       "272               1      1.0        1.0         0.0           0.0   \n",
       "...             ...      ...        ...         ...           ...   \n",
       "463673            1      1.0        1.0         0.0           0.0   \n",
       "463675            1      1.0        1.0         0.0           0.0   \n",
       "463841            1      1.0        1.0         0.0           0.0   \n",
       "463876            1      1.0        1.0         0.0           0.0   \n",
       "463999            1      1.0        1.0         0.0           0.0   \n",
       "\n",
       "             source    medium   campaign deviceCategory operatingSystem  \\\n",
       "161        (direct)    (none)  (not set)        desktop       (not set)   \n",
       "163          google   organic  (not set)        desktop         Windows   \n",
       "232          google   organic  (not set)        desktop         Windows   \n",
       "264          google   organic  (not set)        desktop         Windows   \n",
       "272          google   organic  (not set)        desktop         Windows   \n",
       "...             ...       ...        ...            ...             ...   \n",
       "463673     (direct)    (none)  (not set)         mobile         Android   \n",
       "463675  youtube.com  referral  (not set)        desktop         Windows   \n",
       "463841     (direct)    (none)  (not set)         mobile             iOS   \n",
       "463876     (direct)    (none)  (not set)        desktop         Windows   \n",
       "463999     (direct)    (none)  (not set)        desktop           Linux   \n",
       "\n",
       "             city ChannelGrouping  month  day  hour  minute transact  \\\n",
       "161       Unknown          Direct      4   27    13      44        0   \n",
       "163       Unknown  Organic Search      4   27    14      10        0   \n",
       "232       Unknown  Organic Search      4   27    15      38        0   \n",
       "264       Unknown  Organic Search      4   27    11      11        0   \n",
       "272       Unknown  Organic Search      4   27    12      25        0   \n",
       "...           ...             ...    ...  ...   ...     ...      ...   \n",
       "463673    Unknown          Direct      2   23    13      14        0   \n",
       "463675    Unknown          Social      2   23    22      25        0   \n",
       "463841    Unknown          Direct      2   23    17      52        0   \n",
       "463876  Bengaluru          Direct      2   24     7      10        0   \n",
       "463999    Unknown          Direct      2   23    12       8        0   \n",
       "\n",
       "        TransactionRevenue  \n",
       "161                    0.0  \n",
       "163                    0.0  \n",
       "232                    0.0  \n",
       "264                    0.0  \n",
       "272                    0.0  \n",
       "...                    ...  \n",
       "463673                 0.0  \n",
       "463675                 0.0  \n",
       "463841                 0.0  \n",
       "463876                 0.0  \n",
       "463999                 0.0  \n",
       "\n",
       "[6574 rows x 18 columns]"
      ]
     },
     "execution_count": 43,
     "metadata": {},
     "output_type": "execute_result"
    }
   ],
   "source": [
    "df[df.duplicated()]"
   ]
  },
  {
   "cell_type": "code",
   "execution_count": 44,
   "metadata": {},
   "outputs": [],
   "source": [
    " #Quick way to remove all duplicate rows\n",
    "df.drop_duplicates(inplace=True)"
   ]
  },
  {
   "cell_type": "code",
   "execution_count": 45,
   "metadata": {},
   "outputs": [
    {
     "data": {
      "text/plain": [
       "(457865, 18)"
      ]
     },
     "execution_count": 45,
     "metadata": {},
     "output_type": "execute_result"
    }
   ],
   "source": [
    "df.shape"
   ]
  },
  {
   "cell_type": "code",
   "execution_count": 46,
   "metadata": {},
   "outputs": [
    {
     "data": {
      "text/plain": [
       "VisitNumber           0\n",
       "bounces               0\n",
       "pageviews             0\n",
       "timeOnSite            0\n",
       "transactions          0\n",
       "source                0\n",
       "medium                0\n",
       "campaign              0\n",
       "deviceCategory        0\n",
       "operatingSystem       0\n",
       "city                  0\n",
       "ChannelGrouping       0\n",
       "month                 0\n",
       "day                   0\n",
       "hour                  0\n",
       "minute                0\n",
       "transact              0\n",
       "TransactionRevenue    0\n",
       "dtype: int64"
      ]
     },
     "execution_count": 46,
     "metadata": {},
     "output_type": "execute_result"
    }
   ],
   "source": [
    "df.isnull().sum()  #Now we have removed all missing values in df"
   ]
  },
  {
   "cell_type": "code",
   "execution_count": 47,
   "metadata": {},
   "outputs": [
    {
     "data": {
      "text/plain": [
       "VisitNumber            383\n",
       "bounces                  2\n",
       "pageviews              160\n",
       "timeOnSite            3669\n",
       "transactions            12\n",
       "source                 223\n",
       "medium                   7\n",
       "campaign                 7\n",
       "deviceCategory           3\n",
       "operatingSystem         18\n",
       "city                   435\n",
       "ChannelGrouping          9\n",
       "month                    8\n",
       "day                     31\n",
       "hour                    24\n",
       "minute                  60\n",
       "transact                 2\n",
       "TransactionRevenue    3696\n",
       "dtype: int64"
      ]
     },
     "execution_count": 47,
     "metadata": {},
     "output_type": "execute_result"
    }
   ],
   "source": [
    "df.nunique()"
   ]
  },
  {
   "cell_type": "code",
   "execution_count": 48,
   "metadata": {},
   "outputs": [],
   "source": [
    "# As all the unique values are more than 1 so its better to keep them instead of deleting ."
   ]
  },
  {
   "cell_type": "markdown",
   "metadata": {},
   "source": [
    "# Stastical Summary of the Dataset"
   ]
  },
  {
   "cell_type": "code",
   "execution_count": 49,
   "metadata": {},
   "outputs": [],
   "source": [
    "# We can use this stastical summary to check whether we have some outliers or not"
   ]
  },
  {
   "cell_type": "code",
   "execution_count": 50,
   "metadata": {},
   "outputs": [
    {
     "data": {
      "image/png": "[encoded data removed]",
      "text/plain": [
       "<Figure size 864x432 with 1 Axes>"
      ]
     },
     "metadata": {
      "needs_background": "light"
     },
     "output_type": "display_data"
    }
   ],
   "source": [
    "plt.figure(figsize=(12,6))\n",
    "sns.boxplot(df['VisitNumber']);"
   ]
  },
  {
   "cell_type": "code",
   "execution_count": 51,
   "metadata": {},
   "outputs": [
    {
     "data": {
      "text/plain": [
       "1      346850\n",
       "2       51649\n",
       "3       19741\n",
       "4       10568\n",
       "5        6416\n",
       "        ...  \n",
       "307         1\n",
       "364         1\n",
       "363         1\n",
       "362         1\n",
       "353         1\n",
       "Name: VisitNumber, Length: 383, dtype: int64"
      ]
     },
     "execution_count": 51,
     "metadata": {},
     "output_type": "execute_result"
    }
   ],
   "source": [
    "df['VisitNumber'].value_counts()"
   ]
  },
  {
   "cell_type": "code",
   "execution_count": 52,
   "metadata": {},
   "outputs": [
    {
     "data": {
      "image/png": "[encoded data removed]",
      "text/plain": [
       "<Figure size 864x432 with 1 Axes>"
      ]
     },
     "metadata": {
      "needs_background": "light"
     },
     "output_type": "display_data"
    }
   ],
   "source": [
    "plt.figure(figsize=(12,6))\n",
    "sns.boxplot(df['bounces']);"
   ]
  },
  {
   "cell_type": "code",
   "execution_count": 53,
   "metadata": {},
   "outputs": [
    {
     "data": {
      "text/plain": [
       "0.0    232168\n",
       "1.0    225697\n",
       "Name: bounces, dtype: int64"
      ]
     },
     "execution_count": 53,
     "metadata": {},
     "output_type": "execute_result"
    }
   ],
   "source": [
    "df['bounces'].value_counts()"
   ]
  },
  {
   "cell_type": "code",
   "execution_count": 54,
   "metadata": {},
   "outputs": [
    {
     "data": {
      "image/png": "[encoded data removed]",
      "text/plain": [
       "<Figure size 864x432 with 1 Axes>"
      ]
     },
     "metadata": {
      "needs_background": "light"
     },
     "output_type": "display_data"
    }
   ],
   "source": [
    "plt.figure(figsize=(12,6))\n",
    "sns.countplot(x='pageviews', data=df)\n",
    "plt.xlabel('Number of Page Views')\n",
    "plt.ylabel('Number of Transactions')\n",
    "plt.title('Number of Transactions by Number of Page Views');\n"
   ]
  },
  {
   "cell_type": "code",
   "execution_count": 55,
   "metadata": {},
   "outputs": [
    {
     "data": {
      "text/plain": [
       "3.8111386544068666"
      ]
     },
     "execution_count": 55,
     "metadata": {},
     "output_type": "execute_result"
    }
   ],
   "source": [
    "df['pageviews'].mean()"
   ]
  },
  {
   "cell_type": "code",
   "execution_count": 56,
   "metadata": {},
   "outputs": [
    {
     "data": {
      "text/plain": [
       "6.440548229058304"
      ]
     },
     "execution_count": 56,
     "metadata": {},
     "output_type": "execute_result"
    }
   ],
   "source": [
    "df['pageviews'].std()"
   ]
  },
  {
   "cell_type": "code",
   "execution_count": 57,
   "metadata": {},
   "outputs": [],
   "source": [
    "# The mean number of total page views is near to 4; around 75% of page views are close to 4. The outlier is a maximum\n",
    "#   value of 466 page views.We plot the number of transactions against page views."
   ]
  },
  {
   "cell_type": "code",
   "execution_count": 58,
   "metadata": {},
   "outputs": [
    {
     "data": {
      "image/png": "[encoded data removed]",
      "text/plain": [
       "<Figure size 864x432 with 1 Axes>"
      ]
     },
     "metadata": {
      "needs_background": "light"
     },
     "output_type": "display_data"
    }
   ],
   "source": [
    "plt.figure(figsize=(12,6))\n",
    "sns.boxplot(x=df['transactions']);"
   ]
  },
  {
   "cell_type": "code",
   "execution_count": 59,
   "metadata": {},
   "outputs": [
    {
     "data": {
      "image/png": "[encoded data removed]",
      "text/plain": [
       "<Figure size 864x432 with 1 Axes>"
      ]
     },
     "metadata": {
      "needs_background": "light"
     },
     "output_type": "display_data"
    }
   ],
   "source": [
    "plt.figure(figsize=(12,6))\n",
    "sns.boxplot(x=df['TransactionRevenue']);"
   ]
  },
  {
   "cell_type": "markdown",
   "metadata": {},
   "source": [
    " This field appears to be highly skewed. The average revenue per transaction is 2 currency units, however  outlier as the maximum is 47082."
   ]
  },
  {
   "cell_type": "code",
   "execution_count": 60,
   "metadata": {},
   "outputs": [
    {
     "data": {
      "text/plain": [
       "0    451557\n",
       "1      6308\n",
       "Name: transact, dtype: int64"
      ]
     },
     "execution_count": 60,
     "metadata": {},
     "output_type": "execute_result"
    }
   ],
   "source": [
    "df['transact'].value_counts()"
   ]
  },
  {
   "cell_type": "code",
   "execution_count": 61,
   "metadata": {},
   "outputs": [
    {
     "data": {
      "image/png": "[encoded data removed]",
      "text/plain": [
       "<Figure size 864x432 with 1 Axes>"
      ]
     },
     "metadata": {
      "needs_background": "light"
     },
     "output_type": "display_data"
    }
   ],
   "source": [
    "# Transactions by month,date,hour\n",
    "basic_colour = sns.color_palette()[0]\n",
    "plt.figure(figsize=(12,6))\n",
    "sns.countplot(x='month', data=df, color=basic_colour)\n",
    "plt.xlabel(\"Month\")\n",
    "plt.ylabel(\"Number of Transactions\")\n",
    "plt.title(\"Number of Transactions by Month\");\n"
   ]
  },
  {
   "cell_type": "markdown",
   "metadata": {},
   "source": [
    "Here we can Observe that the number of transactions does not vary much monthly, it remains uniformly hroughout the year.\n"
   ]
  },
  {
   "cell_type": "code",
   "execution_count": 62,
   "metadata": {},
   "outputs": [
    {
     "data": {
      "image/png": "[encoded data removed]",
      "text/plain": [
       "<Figure size 864x432 with 1 Axes>"
      ]
     },
     "metadata": {
      "needs_background": "light"
     },
     "output_type": "display_data"
    }
   ],
   "source": [
    "plt.figure(figsize=(12,6))\n",
    "sns.countplot(x='day', data=df, color=basic_colour)\n",
    "plt.xlabel(\"day\")\n",
    "plt.ylabel(\"Number of Transactions\")\n",
    "plt.title(\"Number of Transactions by Day\");\n"
   ]
  },
  {
   "cell_type": "markdown",
   "metadata": {},
   "source": [
    " Here what we observe that The number of transactions remains uniform throughout the month, but little decrease can be seen at the last 4 days"
   ]
  },
  {
   "cell_type": "code",
   "execution_count": 63,
   "metadata": {},
   "outputs": [
    {
     "data": {
      "image/png": "[encoded data removed]",
      "text/plain": [
       "<Figure size 864x432 with 1 Axes>"
      ]
     },
     "metadata": {
      "needs_background": "light"
     },
     "output_type": "display_data"
    }
   ],
   "source": [
    "plt.figure(figsize=(12,6))\n",
    "sns.countplot(x='hour', data=df, color=basic_colour)\n",
    "plt.xlabel(\"Hour\")\n",
    "plt.ylabel(\"Number of Transactions\")\n",
    "plt.title(\"Number of Transactions by Hour of the day\");"
   ]
  },
  {
   "cell_type": "markdown",
   "metadata": {},
   "source": [
    "What can be observe here is the number of transactions remains less and approximately uniform in the morning hours, and starts increasing around noon. It reaches the peak in the evening between 5-6 pm, and then starts decreasing again during late evening hours."
   ]
  },
  {
   "cell_type": "code",
   "execution_count": 64,
   "metadata": {},
   "outputs": [],
   "source": [
    "# Transactions by device category, device_operatingSystem, channelGrouping, medium"
   ]
  },
  {
   "cell_type": "code",
   "execution_count": 65,
   "metadata": {},
   "outputs": [
    {
     "data": {
      "image/png": "[encoded data removed]",
      "text/plain": [
       "<Figure size 1008x576 with 1 Axes>"
      ]
     },
     "metadata": {
      "needs_background": "light"
     },
     "output_type": "display_data"
    }
   ],
   "source": [
    "plt.figure(figsize=(14,8))\n",
    "sns.countplot(x='deviceCategory', hue = 'transact', data=df);"
   ]
  },
  {
   "cell_type": "markdown",
   "metadata": {},
   "source": [
    "What we can observe is the maximum number of transactions originates from desktop, and least from tablets."
   ]
  },
  {
   "cell_type": "code",
   "execution_count": 66,
   "metadata": {},
   "outputs": [
    {
     "data": {
      "image/png": "[encoded data removed]",
      "text/plain": [
       "<Figure size 1008x576 with 1 Axes>"
      ]
     },
     "metadata": {
      "needs_background": "light"
     },
     "output_type": "display_data"
    }
   ],
   "source": [
    "plt.figure(figsize=(14,8))\n",
    "sns.countplot(x='ChannelGrouping', hue = 'transact', data=df);"
   ]
  },
  {
   "cell_type": "code",
   "execution_count": 67,
   "metadata": {},
   "outputs": [
    {
     "data": {
      "image/png": "[encoded data removed]",
      "text/plain": [
       "<Figure size 1008x576 with 1 Axes>"
      ]
     },
     "metadata": {
      "needs_background": "light"
     },
     "output_type": "display_data"
    }
   ],
   "source": [
    "plt.figure(figsize=(14,8))\n",
    "sns.countplot(x='operatingSystem', hue = 'transact', data=df);"
   ]
  },
  {
   "cell_type": "code",
   "execution_count": 68,
   "metadata": {},
   "outputs": [
    {
     "data": {
      "image/png": "[encoded data removed]",
      "text/plain": [
       "<Figure size 1008x576 with 1 Axes>"
      ]
     },
     "metadata": {
      "needs_background": "light"
     },
     "output_type": "display_data"
    }
   ],
   "source": [
    "plt.figure(figsize=(14,8))\n",
    "sns.countplot(x='source', hue = 'transact', data=df);"
   ]
  },
  {
   "cell_type": "code",
   "execution_count": 69,
   "metadata": {},
   "outputs": [
    {
     "data": {
      "image/png": "[encoded data removed]",
      "text/plain": [
       "<Figure size 1008x576 with 1 Axes>"
      ]
     },
     "metadata": {
      "needs_background": "light"
     },
     "output_type": "display_data"
    }
   ],
   "source": [
    "plt.figure(figsize=(14,8))\n",
    "sns.countplot(x='medium', hue = 'transact', data=df);"
   ]
  },
  {
   "cell_type": "markdown",
   "metadata": {},
   "source": [
    "### We categorize the object features in two different groups. The group having many categorical values will be used for Label Encoding and the other having only a few categorical values will be used for One Hot Encoding."
   ]
  },
  {
   "cell_type": "code",
   "execution_count": 70,
   "metadata": {},
   "outputs": [],
   "source": [
    "cat_many_label_cols = [\"ChannelGrouping\",\"city\",\"operatingSystem\", \"source\",\"medium\", \"campaign\"]\n",
    "cat_few_label_cols = [\"deviceCategory\"]"
   ]
  },
  {
   "cell_type": "code",
   "execution_count": 71,
   "metadata": {},
   "outputs": [
    {
     "name": "stdout",
     "output_type": "stream",
     "text": [
      "ChannelGrouping\n",
      "city\n",
      "operatingSystem\n",
      "source\n",
      "medium\n",
      "campaign\n"
     ]
    }
   ],
   "source": [
    "# Perform Label Encoding and One Hot Encoding for the above grouped features.\n",
    "from sklearn import preprocessing\n",
    "for col in cat_many_label_cols:\n",
    "    print(col)\n",
    "    lbl = preprocessing.LabelEncoder()\n",
    "    lbl.fit(list(df[col].values.astype('str')))\n",
    "    df[col] = lbl.transform(list(df[col].values.astype('str')))\n",
    "    \n",
    "df = pd.get_dummies(df,columns=cat_few_label_cols)"
   ]
  },
  {
   "cell_type": "markdown",
   "metadata": {},
   "source": [
    "###  Now let's Split dataset into features and target variable"
   ]
  },
  {
   "cell_type": "code",
   "execution_count": 72,
   "metadata": {},
   "outputs": [
    {
     "name": "stdout",
     "output_type": "stream",
     "text": [
      "<class 'pandas.core.frame.DataFrame'>\n",
      "Int64Index: 457865 entries, 0 to 464438\n",
      "Data columns (total 20 columns):\n",
      " #   Column                  Non-Null Count   Dtype  \n",
      "---  ------                  --------------   -----  \n",
      " 0   VisitNumber             457865 non-null  int64  \n",
      " 1   bounces                 457865 non-null  float64\n",
      " 2   pageviews               457865 non-null  float64\n",
      " 3   timeOnSite              457865 non-null  float64\n",
      " 4   transactions            457865 non-null  float64\n",
      " 5   source                  457865 non-null  int64  \n",
      " 6   medium                  457865 non-null  int64  \n",
      " 7   campaign                457865 non-null  int64  \n",
      " 8   operatingSystem         457865 non-null  int64  \n",
      " 9   city                    457865 non-null  int64  \n",
      " 10  ChannelGrouping         457865 non-null  int64  \n",
      " 11  month                   457865 non-null  int64  \n",
      " 12  day                     457865 non-null  int64  \n",
      " 13  hour                    457865 non-null  int64  \n",
      " 14  minute                  457865 non-null  int64  \n",
      " 15  transact                457865 non-null  object \n",
      " 16  TransactionRevenue      457865 non-null  float64\n",
      " 17  deviceCategory_desktop  457865 non-null  uint8  \n",
      " 18  deviceCategory_mobile   457865 non-null  uint8  \n",
      " 19  deviceCategory_tablet   457865 non-null  uint8  \n",
      "dtypes: float64(5), int64(11), object(1), uint8(3)\n",
      "memory usage: 84.2+ MB\n"
     ]
    }
   ],
   "source": [
    "df.info()"
   ]
  },
  {
   "cell_type": "code",
   "execution_count": 73,
   "metadata": {},
   "outputs": [],
   "source": [
    "feature_cols = ['VisitNumber','bounces','pageviews','timeOnSite','source','medium','campaign','operatingSystem','city',\n",
    " 'ChannelGrouping','month','day','hour','deviceCategory_desktop','deviceCategory_mobile', 'deviceCategory_tablet']\n",
    "\n",
    "X = df[feature_cols] #  X is our Feature variable\n",
    "\n",
    "Y = df.transact     # Target variable"
   ]
  },
  {
   "cell_type": "code",
   "execution_count": 74,
   "metadata": {},
   "outputs": [
    {
     "data": {
      "text/plain": [
       "(457865, 16)"
      ]
     },
     "execution_count": 74,
     "metadata": {},
     "output_type": "execute_result"
    }
   ],
   "source": [
    "X.shape"
   ]
  },
  {
   "cell_type": "code",
   "execution_count": 75,
   "metadata": {},
   "outputs": [
    {
     "data": {
      "text/plain": [
       "(457865,)"
      ]
     },
     "execution_count": 75,
     "metadata": {},
     "output_type": "execute_result"
    }
   ],
   "source": [
    "Y.shape"
   ]
  },
  {
   "cell_type": "markdown",
   "metadata": {},
   "source": [
    "# Split dataset into Test and Train sets"
   ]
  },
  {
   "cell_type": "code",
   "execution_count": 76,
   "metadata": {},
   "outputs": [],
   "source": [
    "from sklearn.tree import DecisionTreeClassifier\n",
    "from sklearn.model_selection import train_test_split"
   ]
  },
  {
   "cell_type": "code",
   "execution_count": 77,
   "metadata": {},
   "outputs": [],
   "source": [
    "# Split the data into training set and testing set in 70:30 ratio\n",
    "X_train, X_test, Y_train, Y_test = train_test_split(X, Y, test_size = 0.3)"
   ]
  },
  {
   "cell_type": "code",
   "execution_count": 78,
   "metadata": {},
   "outputs": [
    {
     "name": "stdout",
     "output_type": "stream",
     "text": [
      "Wall time: 2.05 s\n"
     ]
    }
   ],
   "source": [
    "%%time\n",
    "# Create Decision Tree classifer object\n",
    "clf = DecisionTreeClassifier()\n",
    "\n",
    "# Train Decision Tree Classifer\n",
    "clf = clf.fit(X_train,Y_train)"
   ]
  },
  {
   "cell_type": "code",
   "execution_count": 79,
   "metadata": {},
   "outputs": [
    {
     "name": "stdout",
     "output_type": "stream",
     "text": [
      "Wall time: 50.1 ms\n"
     ]
    }
   ],
   "source": [
    "%%time\n",
    "#Predict the response for test dataset\n",
    "Y_pred = clf.predict(X_test)"
   ]
  },
  {
   "cell_type": "markdown",
   "metadata": {},
   "source": [
    "Evaluating Model- check how accurately the classifier or model can predict the type of cultivars.\n",
    "Accuracy can be computed by comparing actual test set values and predicted values.\n",
    " we are going to use accuracy as our metric."
   ]
  },
  {
   "cell_type": "code",
   "execution_count": 80,
   "metadata": {},
   "outputs": [
    {
     "name": "stdout",
     "output_type": "stream",
     "text": [
      "Accuracy is: 0.9804819452533489\n"
     ]
    }
   ],
   "source": [
    "# checking the accuracy of the model\n",
    "from sklearn import metrics\n",
    "print(\"Accuracy is:\", metrics.accuracy_score(Y_test, Y_pred))"
   ]
  },
  {
   "cell_type": "code",
   "execution_count": 81,
   "metadata": {},
   "outputs": [],
   "source": [
    "from sklearn.metrics import confusion_matrix\n",
    "from sklearn.tree import DecisionTreeClassifier, export_graphviz"
   ]
  },
  {
   "cell_type": "code",
   "execution_count": 82,
   "metadata": {},
   "outputs": [
    {
     "data": {
      "text/plain": [
       "array([[134030,   1453],\n",
       "       [  1228,    649]], dtype=int64)"
      ]
     },
     "execution_count": 82,
     "metadata": {},
     "output_type": "execute_result"
    }
   ],
   "source": [
    "# generating confusion matrix\n",
    "confusion_matrix(Y_test, Y_pred)"
   ]
  },
  {
   "cell_type": "code",
   "execution_count": 83,
   "metadata": {},
   "outputs": [
    {
     "name": "stdout",
     "output_type": "stream",
     "text": [
      "Recall =  0.9892754072466656\n"
     ]
    }
   ],
   "source": [
    "print('Recall = ', ( 134030/ (134030 + 1453)))"
   ]
  },
  {
   "cell_type": "code",
   "execution_count": 84,
   "metadata": {},
   "outputs": [
    {
     "name": "stdout",
     "output_type": "stream",
     "text": [
      "Precision =  0.9909210545771784\n"
     ]
    }
   ],
   "source": [
    "print('Precision = ', (134030 / (134030 + 1228)))"
   ]
  },
  {
   "cell_type": "markdown",
   "metadata": {},
   "source": [
    "\n",
    "PREDICTION OF THE MODEL\n",
    "\n",
    "True Positive = 134030 observations\n",
    "\n",
    "True Negative = 649 observations\n",
    "\n",
    "False Positives = 1228 observations\n",
    "\n",
    "False Negatives = 1453observations\n",
    "\n",
    "Recall = HIGH, indicating the classes are correctly identified\n",
    "\n",
    "Precision = HIGH, indicating the positive class is correctly identified"
   ]
  },
  {
   "cell_type": "markdown",
   "metadata": {},
   "source": [
    "# Visualization"
   ]
  },
  {
   "cell_type": "code",
   "execution_count": 85,
   "metadata": {},
   "outputs": [],
   "source": [
    "from sklearn import tree\n",
    "from sklearn.tree import export_graphviz\n",
    "from six import StringIO  \n",
    "from IPython.display import Image  \n",
    "import pydotplus\n",
    "import png"
   ]
  },
  {
   "cell_type": "code",
   "execution_count": 86,
   "metadata": {},
   "outputs": [],
   "source": [
    "out = StringIO()\n",
    "tree.export_graphviz(clf, out_file=out)\n",
    "graph=pydotplus.graph_from_dot_data(out.getvalue())\n"
   ]
  },
  {
   "cell_type": "code",
   "execution_count": 87,
   "metadata": {},
   "outputs": [
    {
     "name": "stdout",
     "output_type": "stream",
     "text": [
      "Accuracy: 0.9804819452533489\n"
     ]
    }
   ],
   "source": [
    "# Create Decision Tree classifer object\n",
    "clf = DecisionTreeClassifier(criterion=\"entropy\", max_depth=5)\n",
    "\n",
    "# Train Decision Tree Classifer\n",
    "clf = clf.fit(X_train,Y_train)\n",
    "\n",
    "#Predict the response for test dataset\n",
    "y_pred = clf.predict(X_test)\n",
    "\n",
    "# Model Accuracy, how often is the classifier correct?\n",
    "print(\"Accuracy:\",metrics.accuracy_score(Y_test, Y_pred))"
   ]
  },
  {
   "cell_type": "code",
   "execution_count": 88,
   "metadata": {},
   "outputs": [
    {
     "name": "stdout",
     "output_type": "stream",
     "text": [
      "Wall time: 843 ms\n"
     ]
    }
   ],
   "source": [
    "\n",
    "%%time\n",
    "\n",
    "dot_data = StringIO()\n",
    "export_graphviz(clf, out_file = dot_data, filled = True, rounded = True, special_characters = True, \n",
    "                feature_names = feature_cols, class_names = ['0','1'])\n",
    "\n",
    "graph = pydotplus.graph_from_dot_data(dot_data.getvalue())"
   ]
  },
  {
   "cell_type": "code",
   "execution_count": null,
   "metadata": {},
   "outputs": [],
   "source": [
    "# %%time\n",
    "\n",
    "# Image(graph.create_png())\n",
    "\n",
    "# Note- You can run this code in colab or in any other platform,I am facing some problem in  installing some packages \n",
    "# that's why I couldn't run this"
   ]
  }
 ],
 "metadata": {
  "kernelspec": {
   "display_name": "Python 3",
   "language": "python",
   "name": "python3"
  },
  "language_info": {
   "codemirror_mode": {
    "name": "ipython",
    "version": 3
   },
   "file_extension": ".py",
   "mimetype": "text/x-python",
   "name": "python",
   "nbconvert_exporter": "python",
   "pygments_lexer": "ipython3",
   "version": "3.8.5"
  }
 },
 "nbformat": 4,
 "nbformat_minor": 4
}
